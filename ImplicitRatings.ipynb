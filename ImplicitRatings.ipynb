{
 "cells": [
  {
   "cell_type": "code",
   "execution_count": 1,
   "metadata": {
    "collapsed": true
   },
   "outputs": [],
   "source": [
    "users3 = {\"David\": {\"Imagine Dragons\": 3, \"Daft Punk\": 5,\"Lorde\": 4, \"Fall Out Boy\": 1},\n",
    "\"Matt\": {\"Imagine Dragons\": 3, \"Daft Punk\": 4,\"Lorde\": 4, \"Fall Out Boy\": 1},\n",
    "\"Ben\":{\"Kacey Musgraves\": 4, \"Imagine Dragons\": 3,\"Lorde\": 3, \"Fall Out Boy\": 1},\n",
    "\"Chris\": {\"Kacey Musgraves\": 4, \"Imagine Dragons\": 4,\"Daft Punk\": 4, \"Lorde\": 3, \"Fall Out Boy\": 1},\n",
    "\"Tori\": {\"Kacey Musgraves\": 5, \"Imagine Dragons\": 4,\"Daft Punk\": 5, \"Fall Out Boy\": 3}}"
   ]
  },
  {
   "cell_type": "code",
   "execution_count": 153,
   "metadata": {
    "collapsed": false
   },
   "outputs": [
    {
     "data": {
      "text/html": [
       "<div style=\"max-height:1000px;max-width:1500px;overflow:auto;\">\n",
       "<table border=\"1\" class=\"dataframe\">\n",
       "  <thead>\n",
       "    <tr style=\"text-align: right;\">\n",
       "      <th></th>\n",
       "      <th>Ben</th>\n",
       "      <th>Chris</th>\n",
       "      <th>David</th>\n",
       "      <th>Matt</th>\n",
       "      <th>Tori</th>\n",
       "    </tr>\n",
       "  </thead>\n",
       "  <tbody>\n",
       "    <tr>\n",
       "      <th>Daft Punk</th>\n",
       "      <td>NaN</td>\n",
       "      <td> 4</td>\n",
       "      <td>  5</td>\n",
       "      <td>  4</td>\n",
       "      <td>  5</td>\n",
       "    </tr>\n",
       "    <tr>\n",
       "      <th>Fall Out Boy</th>\n",
       "      <td>  1</td>\n",
       "      <td> 1</td>\n",
       "      <td>  1</td>\n",
       "      <td>  1</td>\n",
       "      <td>  3</td>\n",
       "    </tr>\n",
       "    <tr>\n",
       "      <th>Imagine Dragons</th>\n",
       "      <td>  3</td>\n",
       "      <td> 4</td>\n",
       "      <td>  3</td>\n",
       "      <td>  3</td>\n",
       "      <td>  4</td>\n",
       "    </tr>\n",
       "    <tr>\n",
       "      <th>Kacey Musgraves</th>\n",
       "      <td>  4</td>\n",
       "      <td> 4</td>\n",
       "      <td>NaN</td>\n",
       "      <td>NaN</td>\n",
       "      <td>  5</td>\n",
       "    </tr>\n",
       "    <tr>\n",
       "      <th>Lorde</th>\n",
       "      <td>  3</td>\n",
       "      <td> 3</td>\n",
       "      <td>  4</td>\n",
       "      <td>  4</td>\n",
       "      <td>NaN</td>\n",
       "    </tr>\n",
       "  </tbody>\n",
       "</table>\n",
       "</div>"
      ],
      "text/plain": [
       "                 Ben  Chris  David  Matt  Tori\n",
       "Daft Punk        NaN      4      5     4     5\n",
       "Fall Out Boy       1      1      1     1     3\n",
       "Imagine Dragons    3      4      3     3     4\n",
       "Kacey Musgraves    4      4    NaN   NaN     5\n",
       "Lorde              3      3      4     4   NaN"
      ]
     },
     "execution_count": 153,
     "metadata": {},
     "output_type": "execute_result"
    }
   ],
   "source": [
    "import pandas as pd\n",
    "import math\n",
    "from functools import reduce\n",
    "df = pd.DataFrame(users3)\n",
    "df"
   ]
  },
  {
   "cell_type": "code",
   "execution_count": 149,
   "metadata": {
    "collapsed": false
   },
   "outputs": [],
   "source": [
    "def computeSimilarity(band1,band2,userratings):\n",
    "    num = 0\n",
    "    den1 = 0\n",
    "    den2= 0\n",
    "    for user in userratings.columns:\n",
    "        if not math.isnan(df[user][band1]) and not math.isnan(df[user][band2]):\n",
    "            avgu = df[user].mean()\n",
    "            num += (df[user][band1]-avgu) * (df[user][band2]-avgu) \n",
    "            den1+= (df[user][band1]-avgu) ** 2\n",
    "            den2+= (df[user][band2]-avgu) ** 2\n",
    "    return num/(math.sqrt(den1) * math.sqrt(den2))\n"
   ]
  },
  {
   "cell_type": "code",
   "execution_count": 178,
   "metadata": {
    "collapsed": false
   },
   "outputs": [],
   "source": [
    "import numpy as np\n",
    "dfr = pd.DataFrame(np.zeros((5,4)),index=['Kacey Musgraves','Imagine Dragons','Daft Punk','Lorde','Fall Out Boy'],columns=['Fall Out Boy','Lorde','Daft Punk','Imagine Dragons'])"
   ]
  },
  {
   "cell_type": "code",
   "execution_count": 179,
   "metadata": {
    "collapsed": false
   },
   "outputs": [
    {
     "data": {
      "text/html": [
       "<div style=\"max-height:1000px;max-width:1500px;overflow:auto;\">\n",
       "<table border=\"1\" class=\"dataframe\">\n",
       "  <thead>\n",
       "    <tr style=\"text-align: right;\">\n",
       "      <th></th>\n",
       "      <th>Fall Out Boy</th>\n",
       "      <th>Lorde</th>\n",
       "      <th>Daft Punk</th>\n",
       "      <th>Imagine Dragons</th>\n",
       "    </tr>\n",
       "  </thead>\n",
       "  <tbody>\n",
       "    <tr>\n",
       "      <th>Kacey Musgraves</th>\n",
       "      <td> 0</td>\n",
       "      <td> 0</td>\n",
       "      <td> 0</td>\n",
       "      <td> 0</td>\n",
       "    </tr>\n",
       "    <tr>\n",
       "      <th>Imagine Dragons</th>\n",
       "      <td> 0</td>\n",
       "      <td> 0</td>\n",
       "      <td> 0</td>\n",
       "      <td> 0</td>\n",
       "    </tr>\n",
       "    <tr>\n",
       "      <th>Daft Punk</th>\n",
       "      <td> 0</td>\n",
       "      <td> 0</td>\n",
       "      <td> 0</td>\n",
       "      <td> 0</td>\n",
       "    </tr>\n",
       "    <tr>\n",
       "      <th>Lorde</th>\n",
       "      <td> 0</td>\n",
       "      <td> 0</td>\n",
       "      <td> 0</td>\n",
       "      <td> 0</td>\n",
       "    </tr>\n",
       "    <tr>\n",
       "      <th>Fall Out Boy</th>\n",
       "      <td> 0</td>\n",
       "      <td> 0</td>\n",
       "      <td> 0</td>\n",
       "      <td> 0</td>\n",
       "    </tr>\n",
       "  </tbody>\n",
       "</table>\n",
       "</div>"
      ],
      "text/plain": [
       "                 Fall Out Boy  Lorde  Daft Punk  Imagine Dragons\n",
       "Kacey Musgraves             0      0          0                0\n",
       "Imagine Dragons             0      0          0                0\n",
       "Daft Punk                   0      0          0                0\n",
       "Lorde                       0      0          0                0\n",
       "Fall Out Boy                0      0          0                0"
      ]
     },
     "execution_count": 179,
     "metadata": {},
     "output_type": "execute_result"
    }
   ],
   "source": [
    "dfr"
   ]
  },
  {
   "cell_type": "code",
   "execution_count": 183,
   "metadata": {
    "collapsed": false
   },
   "outputs": [],
   "source": [
    "for c in dfr.columns:\n",
    "     for i in dfr.index:\n",
    "            if c == i:\n",
    "                dfr[c][c] = None\n",
    "            else:\n",
    "                dfr[c][i] = computeSimilarity(c,i,df)\n",
    "                "
   ]
  },
  {
   "cell_type": "code",
   "execution_count": 185,
   "metadata": {
    "collapsed": false
   },
   "outputs": [
    {
     "data": {
      "text/html": [
       "<div style=\"max-height:1000px;max-width:1500px;overflow:auto;\">\n",
       "<table border=\"1\" class=\"dataframe\">\n",
       "  <thead>\n",
       "    <tr style=\"text-align: right;\">\n",
       "      <th></th>\n",
       "      <th>Fall Out Boy</th>\n",
       "      <th>Lorde</th>\n",
       "      <th>Daft Punk</th>\n",
       "      <th>Imagine Dragons</th>\n",
       "    </tr>\n",
       "  </thead>\n",
       "  <tbody>\n",
       "    <tr>\n",
       "      <th>Kacey Musgraves</th>\n",
       "      <td>-0.954897</td>\n",
       "      <td> 0.320959</td>\n",
       "      <td> 1.000000</td>\n",
       "      <td> 0.525997</td>\n",
       "    </tr>\n",
       "    <tr>\n",
       "      <th>Imagine Dragons</th>\n",
       "      <td>-0.337756</td>\n",
       "      <td>-0.252527</td>\n",
       "      <td> 0.007474</td>\n",
       "      <td>      NaN</td>\n",
       "    </tr>\n",
       "    <tr>\n",
       "      <th>Daft Punk</th>\n",
       "      <td>-0.956948</td>\n",
       "      <td> 0.784115</td>\n",
       "      <td>      NaN</td>\n",
       "      <td> 0.007474</td>\n",
       "    </tr>\n",
       "    <tr>\n",
       "      <th>Lorde</th>\n",
       "      <td>-0.693351</td>\n",
       "      <td>      NaN</td>\n",
       "      <td> 0.784115</td>\n",
       "      <td>-0.252527</td>\n",
       "    </tr>\n",
       "    <tr>\n",
       "      <th>Fall Out Boy</th>\n",
       "      <td>      NaN</td>\n",
       "      <td>-0.693351</td>\n",
       "      <td>-0.956948</td>\n",
       "      <td>-0.337756</td>\n",
       "    </tr>\n",
       "  </tbody>\n",
       "</table>\n",
       "</div>"
      ],
      "text/plain": [
       "                 Fall Out Boy     Lorde  Daft Punk  Imagine Dragons\n",
       "Kacey Musgraves     -0.954897  0.320959   1.000000         0.525997\n",
       "Imagine Dragons     -0.337756 -0.252527   0.007474              NaN\n",
       "Daft Punk           -0.956948  0.784115        NaN         0.007474\n",
       "Lorde               -0.693351       NaN   0.784115        -0.252527\n",
       "Fall Out Boy              NaN -0.693351  -0.956948        -0.337756"
      ]
     },
     "execution_count": 185,
     "metadata": {},
     "output_type": "execute_result"
    }
   ],
   "source": [
    "#excercise answer\n",
    "dfr"
   ]
  },
  {
   "cell_type": "code",
   "execution_count": null,
   "metadata": {
    "collapsed": true
   },
   "outputs": [],
   "source": []
  }
 ],
 "metadata": {
  "kernelspec": {
   "display_name": "Python 3",
   "language": "python",
   "name": "python3"
  },
  "language_info": {
   "codemirror_mode": {
    "name": "ipython",
    "version": 3
   },
   "file_extension": ".py",
   "mimetype": "text/x-python",
   "name": "python",
   "nbconvert_exporter": "python",
   "pygments_lexer": "ipython3",
   "version": "3.3.5"
  }
 },
 "nbformat": 4,
 "nbformat_minor": 0
}
