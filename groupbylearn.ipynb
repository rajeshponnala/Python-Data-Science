{
 "cells": [
  {
   "cell_type": "code",
   "execution_count": 60,
   "metadata": {
    "collapsed": false,
    "scrolled": true
   },
   "outputs": [
    {
     "name": "stdout",
     "output_type": "stream",
     "text": [
      "     A      B         C         D\n",
      "0  bar    one -1.124077 -1.407888\n",
      "1  bar  three  1.514428  1.827154\n",
      "2  bar    two  1.179416  1.028068\n",
      "3  foo    one -0.146865  3.131559\n",
      "4  foo  three  1.946933  0.388284\n",
      "5  foo    two -1.337827 -0.201519\n",
      "     A      B         C         D\n",
      "0  bar    one -1.124077 -1.407888\n",
      "1  bar  three  1.514428  1.827154\n",
      "2  bar    two  1.179416  1.028068\n",
      "3  foo    one -0.146865  3.131559\n",
      "4  foo  three  1.946933  0.388284\n",
      "5  foo    two -1.337827 -0.201519\n",
      "A\n",
      "bar    3\n",
      "foo    5\n",
      "dtype: int64\n",
      "A    B    \n",
      "bar  one      1\n",
      "     three    1\n",
      "     two      1\n",
      "foo  one      2\n",
      "     three    1\n",
      "     two      2\n",
      "dtype: int64\n",
      "            C                             D                    \n",
      "          sum      mean       std       sum      mean       std\n",
      "A                                                              \n",
      "bar  1.569766  0.523255  1.436432  1.447334  0.482445  1.685127\n",
      "foo  0.462241  0.092448  1.273879  3.318324  0.663665  1.367011\n",
      "                  C                             D                    \n",
      "                sum      mean       std       sum      mean       std\n",
      "A   B                                                                \n",
      "bar one   -1.124077 -1.124077       NaN -1.407888 -1.407888       NaN\n",
      "    three  1.514428  1.514428       NaN  1.827154  1.827154       NaN\n",
      "    two    1.179416  1.179416       NaN  1.028068  1.028068       NaN\n",
      "foo one   -0.146865 -0.073432  0.249022  3.131559  1.565779  0.094354\n",
      "    three  1.946933  1.946933       NaN  0.388284  0.388284       NaN\n",
      "    two   -1.337827 -0.668914  1.332504 -0.201519 -0.100760  2.143321\n"
     ]
    }
   ],
   "source": [
    "%run learngroupby.py"
   ]
  },
  {
   "cell_type": "code",
   "execution_count": null,
   "metadata": {
    "collapsed": true
   },
   "outputs": [],
   "source": []
  },
  {
   "cell_type": "code",
   "execution_count": null,
   "metadata": {
    "collapsed": true
   },
   "outputs": [],
   "source": []
  }
 ],
 "metadata": {
  "kernelspec": {
   "display_name": "Python 3",
   "language": "python",
   "name": "python3"
  },
  "language_info": {
   "codemirror_mode": {
    "name": "ipython",
    "version": 3
   },
   "file_extension": ".py",
   "mimetype": "text/x-python",
   "name": "python",
   "nbconvert_exporter": "python",
   "pygments_lexer": "ipython3",
   "version": "3.3.5"
  }
 },
 "nbformat": 4,
 "nbformat_minor": 0
}
