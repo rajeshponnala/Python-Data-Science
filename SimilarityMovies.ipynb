{
 "cells": [
  {
   "cell_type": "code",
   "execution_count": 137,
   "metadata": {
    "collapsed": false
   },
   "outputs": [],
   "source": [
    "%run MovieSimilarity.py"
   ]
  },
  {
   "cell_type": "code",
   "execution_count": 138,
   "metadata": {
    "collapsed": false
   },
   "outputs": [
    {
     "name": "stdout",
     "output_type": "stream",
     "text": [
      "3.96501727788\n"
     ]
    },
    {
     "data": {
      "text/plain": [
       "'L'"
      ]
     },
     "execution_count": 138,
     "metadata": {},
     "output_type": "execute_result"
    }
   ],
   "source": [
    "userLikesOrDislikesMovie(2,4)"
   ]
  },
  {
   "cell_type": "code",
   "execution_count": 139,
   "metadata": {
    "collapsed": false
   },
   "outputs": [
    {
     "data": {
      "text/plain": [
       "movie_id\n",
       "8                            (8, Babe (1995), 3.99543378995)\n",
       "11                 (11, Seven (Se7en) (1995), 3.84745762712)\n",
       "12           (12, Usual Suspects, The (1995), 4.38576779026)\n",
       "23                   (23, Taxi Driver (1976), 4.12087912088)\n",
       "32                         (32, Crumb (1994), 3.79012345679)\n",
       "56                  (56, Pulp Fiction (1994), 4.06091370558)\n",
       "81          (81, Hudsucker Proxy, The (1994), 3.55454545455)\n",
       "dtype: object"
      ]
     },
     "execution_count": 139,
     "metadata": {},
     "output_type": "execute_result"
    }
   ],
   "source": [
    "recommend_user_similar_movies(2,4)"
   ]
  }
 ],
 "metadata": {
  "kernelspec": {
   "display_name": "Python 3",
   "language": "python",
   "name": "python3"
  },
  "language_info": {
   "codemirror_mode": {
    "name": "ipython",
    "version": 3
   },
   "file_extension": ".py",
   "mimetype": "text/x-python",
   "name": "python",
   "nbconvert_exporter": "python",
   "pygments_lexer": "ipython3",
   "version": "3.3.5"
  }
 },
 "nbformat": 4,
 "nbformat_minor": 0
}
