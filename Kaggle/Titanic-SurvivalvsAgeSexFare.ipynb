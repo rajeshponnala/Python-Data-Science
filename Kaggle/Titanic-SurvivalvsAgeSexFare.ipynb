{
 "cells": [
  {
   "cell_type": "code",
   "execution_count": 568,
   "metadata": {
    "collapsed": false
   },
   "outputs": [],
   "source": [
    "import pandas as pd\n",
    "import numpy as np\n",
    "import matplotlib.pyplot as plt\n"
   ]
  },
  {
   "cell_type": "code",
   "execution_count": 569,
   "metadata": {
    "collapsed": true
   },
   "outputs": [],
   "source": [
    "df = pd.read_csv('train.csv')"
   ]
  },
  {
   "cell_type": "code",
   "execution_count": 570,
   "metadata": {
    "collapsed": true
   },
   "outputs": [],
   "source": [
    "df=df.drop([\"Name\",\"Ticket\",\"Cabin\"],axis=1)"
   ]
  },
  {
   "cell_type": "code",
   "execution_count": 571,
   "metadata": {
    "collapsed": false
   },
   "outputs": [],
   "source": [
    "age_mean = df[\"Age\"].mean()\n",
    "df[\"Age\"] = df[\"Age\"].fillna(age_mean)\n",
    "df[\"AgeCat\"] = df[\"Age\"].map(lambda x: \"Child\" if x < 18 else \"Adult\")\n",
    "AgeCat.columns=[\"UnSurvived\",\"Survived\"]"
   ]
  },
  {
   "cell_type": "code",
   "execution_count": 572,
   "metadata": {
    "collapsed": false
   },
   "outputs": [],
   "source": [
    "fig,axes = plt.subplots(3,1,figsize=(15,15))\n",
    "fig.subplots_adjust(hspace=.6)"
   ]
  },
  {
   "cell_type": "code",
   "execution_count": 573,
   "metadata": {
    "collapsed": false
   },
   "outputs": [
    {
     "data": {
      "text/plain": [
       "<matplotlib.axes._subplots.AxesSubplot at 0x7f207151b908>"
      ]
     },
     "execution_count": 573,
     "metadata": {},
     "output_type": "execute_result"
    }
   ],
   "source": [
    "AgeCat.plot(kind='bar',ax=axes[0],title=\"Age vs Survival\",sharex=False,sharey=False)"
   ]
  },
  {
   "cell_type": "code",
   "execution_count": 574,
   "metadata": {
    "collapsed": true
   },
   "outputs": [],
   "source": [
    "def cat(x):\n",
    "    if x <= 10 :\n",
    "        return '0-10'\n",
    "    if x > 10 and x<=20:\n",
    "        return '11-20'\n",
    "    if x > 20 and  x<= 30:\n",
    "        return '21-30'\n",
    "    if x > 30 and x<= 40:\n",
    "        return '31-40'\n",
    "    if x > 40 and x<= 50: \n",
    "        return '41-50'\n",
    "    if x > 50 and x<= 60: \n",
    "        return '51-60'\n",
    "    if x > 60 and x<= 70:\n",
    "        return '61-70'\n",
    "    if x > 70 and x<= 80:\n",
    "        return '71-80'\n",
    "    if x > 80 and x<= 90:\n",
    "        return '81-90'\n",
    "    return '91-100'\n",
    "\n",
    "\n",
    "df[\"AgeClass\"] = df[\"Age\"].map(lambda x: cat(x))"
   ]
  },
  {
   "cell_type": "code",
   "execution_count": 575,
   "metadata": {
    "collapsed": true
   },
   "outputs": [],
   "source": [
    "d = pd.crosstab(df.Sex,df.Survived)\n",
    "d.columns=['Un Survived','Survived']"
   ]
  },
  {
   "cell_type": "code",
   "execution_count": 576,
   "metadata": {
    "collapsed": false
   },
   "outputs": [
    {
     "data": {
      "text/plain": [
       "<matplotlib.axes._subplots.AxesSubplot at 0x7f20714cc048>"
      ]
     },
     "execution_count": 576,
     "metadata": {},
     "output_type": "execute_result"
    }
   ],
   "source": [
    "d.plot(kind='bar',ax=axes[1],title=\"Sex vs Survival\",sharex=False,sharey=False)"
   ]
  },
  {
   "cell_type": "code",
   "execution_count": 577,
   "metadata": {
    "collapsed": false
   },
   "outputs": [],
   "source": [
    "def fareCateg(m):\n",
    "    if m <= 200 :\n",
    "        return \"A\"\n",
    "    if m > 200 and m<= 400:\n",
    "        return \"B\"\n",
    "    return \"C\""
   ]
  },
  {
   "cell_type": "code",
   "execution_count": 578,
   "metadata": {
    "collapsed": true
   },
   "outputs": [],
   "source": [
    "df[\"FareClass\"] = df[\"Fare\"].map(lambda x: fareCateg(x))"
   ]
  },
  {
   "cell_type": "code",
   "execution_count": 579,
   "metadata": {
    "collapsed": false
   },
   "outputs": [],
   "source": [
    "d1 = pd.crosstab(df.FareClass,df.Survived)\n",
    "d1.columns=['Un Survived','Survived']"
   ]
  },
  {
   "cell_type": "code",
   "execution_count": 580,
   "metadata": {
    "collapsed": false
   },
   "outputs": [
    {
     "data": {
      "text/plain": [
       "<matplotlib.axes._subplots.AxesSubplot at 0x7f2071493c88>"
      ]
     },
     "execution_count": 580,
     "metadata": {},
     "output_type": "execute_result"
    }
   ],
   "source": [
    "d1.plot(kind='bar',ax=axes[2],title=\"Fare vs Survival\",sharex=False,sharey=False)"
   ]
  },
  {
   "cell_type": "code",
   "execution_count": 581,
   "metadata": {
    "collapsed": true
   },
   "outputs": [],
   "source": [
    "plt.ylabel('Count')\n",
    "plt.savefig(\"AgeSexFarevsSurvival.pdf\")\n",
    "plt.show()"
   ]
  },
  {
   "cell_type": "code",
   "execution_count": null,
   "metadata": {
    "collapsed": true
   },
   "outputs": [],
   "source": []
  }
 ],
 "metadata": {
  "kernelspec": {
   "display_name": "Python 3",
   "language": "python",
   "name": "python3"
  },
  "language_info": {
   "codemirror_mode": {
    "name": "ipython",
    "version": 3
   },
   "file_extension": ".py",
   "mimetype": "text/x-python",
   "name": "python",
   "nbconvert_exporter": "python",
   "pygments_lexer": "ipython3",
   "version": "3.4.3"
  }
 },
 "nbformat": 4,
 "nbformat_minor": 0
}
