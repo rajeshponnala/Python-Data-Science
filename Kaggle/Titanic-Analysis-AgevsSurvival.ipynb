{
 "cells": [
  {
   "cell_type": "code",
   "execution_count": 429,
   "metadata": {
    "collapsed": true
   },
   "outputs": [],
   "source": [
    "import pandas as pd\n",
    "import numpy as np\n",
    "import matplotlib.pyplot as plt"
   ]
  },
  {
   "cell_type": "code",
   "execution_count": 444,
   "metadata": {
    "collapsed": false
   },
   "outputs": [],
   "source": [
    "df = pd.read_csv('train.csv')"
   ]
  },
  {
   "cell_type": "code",
   "execution_count": 445,
   "metadata": {
    "collapsed": false
   },
   "outputs": [],
   "source": [
    "df=df.drop([\"Name\",\"Ticket\",\"Cabin\"],axis=1)"
   ]
  },
  {
   "cell_type": "code",
   "execution_count": 446,
   "metadata": {
    "collapsed": false
   },
   "outputs": [],
   "source": [
    "age_mean = df[\"Age\"].mean()\n",
    "df[\"Age\"] = df[\"Age\"].fillna(age_mean)"
   ]
  },
  {
   "cell_type": "code",
   "execution_count": 447,
   "metadata": {
    "collapsed": false
   },
   "outputs": [],
   "source": [
    "def cat(x):\n",
    "    if x <= 10 :\n",
    "        return '0-10'\n",
    "    if x > 10 and x<=20:\n",
    "        return '11-20'\n",
    "    if x > 20 and  x<= 30:\n",
    "        return '21-30'\n",
    "    if x > 30 and x<= 40:\n",
    "        return '31-40'\n",
    "    if x > 40 and x<= 50: \n",
    "        return '41-50'\n",
    "    if x > 50 and x<= 60: \n",
    "        return '51-60'\n",
    "    if x > 60 and x<= 70:\n",
    "        return '61-70'\n",
    "    if x > 70 and x<= 80:\n",
    "        return '71-80'\n",
    "    if x > 80 and x<= 90:\n",
    "        return '81-90'\n",
    "    return '91-100'\n",
    "\n",
    "\n",
    "df[\"AgeCat\"] = df[\"Age\"].map(lambda x: cat(x))"
   ]
  },
  {
   "cell_type": "code",
   "execution_count": 448,
   "metadata": {
    "collapsed": false
   },
   "outputs": [],
   "source": [
    "d = pd.crosstab(df.AgeCat,df.Survived)\n",
    "dumm = pd.unique(df.AgeCat.ravel())\n",
    "d.columns=['Un Survived','Survived']"
   ]
  },
  {
   "cell_type": "code",
   "execution_count": 449,
   "metadata": {
    "collapsed": false
   },
   "outputs": [
    {
     "data": {
      "text/plain": [
       "<matplotlib.text.Text at 0x7f114525cad0>"
      ]
     },
     "execution_count": 449,
     "metadata": {},
     "output_type": "execute_result"
    }
   ],
   "source": [
    "d.plot(kind='bar',title='Age vs Survival')\n",
    "plt.xlabel('Age')\n",
    "plt.ylabel('Count')"
   ]
  },
  {
   "cell_type": "code",
   "execution_count": 450,
   "metadata": {
    "collapsed": false
   },
   "outputs": [],
   "source": [
    "plt.savefig('AgevsSurvival.pdf')\n",
    "plt.show()"
   ]
  },
  {
   "cell_type": "code",
   "execution_count": null,
   "metadata": {
    "collapsed": true
   },
   "outputs": [],
   "source": []
  }
 ],
 "metadata": {
  "kernelspec": {
   "display_name": "Python 3",
   "language": "python",
   "name": "python3"
  },
  "language_info": {
   "codemirror_mode": {
    "name": "ipython",
    "version": 3
   },
   "file_extension": ".py",
   "mimetype": "text/x-python",
   "name": "python",
   "nbconvert_exporter": "python",
   "pygments_lexer": "ipython3",
   "version": "3.3.5"
  }
 },
 "nbformat": 4,
 "nbformat_minor": 0
}
