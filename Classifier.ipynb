{
 "cells": [
  {
   "cell_type": "code",
   "execution_count": 349,
   "metadata": {
    "collapsed": true
   },
   "outputs": [],
   "source": [
    "%run songsclassifier.py"
   ]
  },
  {
   "cell_type": "code",
   "execution_count": 350,
   "metadata": {
    "collapsed": true
   },
   "outputs": [],
   "source": [
    "music = pd.DataFrame({\"Dr Dog/Fate\": {\"piano\": 2.5, \"vocals\": 4, \"beat\": 3.5,\"blues\": 3, \"guitar\": 5, \"backup vocals\": 4,\"rap\": 1},\n",
    "\"Phoenix/Lisztomania\": {\"piano\": 2, \"vocals\": 5, \"beat\": 5,\"blues\": 3, \"guitar\": 2,\"backup vocals\": 1, \"rap\": 1},\n",
    "\"Heartless Bastards/Out at Sea\": {\"piano\": 1, \"vocals\": 5,\"beat\": 4, \"blues\": 2,\"guitar\": 4,\"backup vocals\": 1,\"rap\": 1},\n",
    "\"Todd Snider/Don't Tempt Me\": {\"piano\": 4, \"vocals\": 5,\"beat\": 4, \"blues\": 4,\"guitar\": 1,\"backup vocals\": 5, \"rap\": 1},\n",
    "\"The Black Keys/Magic Potion\":{\"piano\": 1, \"vocals\": 4,\"beat\": 5, \"blues\": 3.5,\"guitar\": 5,\"backup vocals\": 1, \"rap\": 1},\n",
    "\"Glee Cast/Jessie's Girl\":{\"piano\": 1, \"vocals\": 5,\"beat\": 3.5, \"blues\": 3,\"guitar\": 4,\"backup vocals\": 5, \"rap\": 1},\n",
    "\"La Roux/Bulletproof\":{\"piano\": 5, \"vocals\": 5,\"beat\": 4, \"blues\": 2,\"guitar\": 1,\"backup vocals\": 1, \"rap\": 1},\n",
    "\"Mike Posner\": {\"piano\": 2.5, \"vocals\": 4,\"beat\": 4, \"blues\": 1,\"guitar\": 1,\"backup vocals\": 1, \"rap\": 1},\n",
    "\"Black Eyed Peas/Rock That Body\": {\"piano\": 2, \"vocals\": 5,\"beat\": 5, \"blues\": 1,\"guitar\": 2,\"backup vocals\": 2, \"rap\": 4},\n",
    "\"Lady Gaga/Alejandro\":{\"piano\": 1, \"vocals\": 5,\"beat\": 3, \"blues\": 2,\"guitar\": 1,\"backup vocals\": 2, \"rap\": 1}\n",
    "})"
   ]
  },
  {
   "cell_type": "code",
   "execution_count": 351,
   "metadata": {
    "collapsed": true
   },
   "outputs": [],
   "source": [
    "users = pd.DataFrame({\"Angelica\": {\"Dr Dog/Fate\": \"L\", \"Phoenix/Lisztomania\": \"L\",\n",
    "\"Heartless Bastards/Out at Sea\": \"D\",\n",
    "\"Todd Snider/Don't Tempt Me\": \"D\",\n",
    "\"The Black Keys/Magic Potion\": \"D\",\n",
    "\"Glee Cast/Jessie's Girl\": \"L\",\n",
    "\"La Roux/Bulletproof\": \"D\",\n",
    "\"Mike Posner\": \"D\",\n",
    "\"Black Eyed Peas/Rock That Body\": \"D\",\n",
    "\"Lady Gaga/Alejandro\": \"L\"},\n",
    "\"Bill\": {\"Dr Dog/Fate\": \"L\", \"Phoenix/Lisztomania\": \"L\",\n",
    "\"Heartless Bastards/Out at Sea\": \"L\",\n",
    "\"Todd Snider/Don't Tempt Me\": \"D\",\n",
    "\"The Black Keys/Magic Potion\": \"L\",\n",
    "\"Glee Cast/Jessie's Girl\": \"D\",\n",
    "\"La Roux/Bulletproof\": \"D\", \"Mike Posner\": \"D\",\n",
    "\"Black Eyed Peas/Rock That Body\": \"D\",\n",
    "\"Lady Gaga/Alejandro\": \"D\"}\n",
    "})"
   ]
  },
  {
   "cell_type": "code",
   "execution_count": 352,
   "metadata": {
    "collapsed": false
   },
   "outputs": [
    {
     "data": {
      "text/plain": [
       "[(4.5, 'Lady Gaga/Alejandro'),\n",
       " (6.0, \"Glee Cast/Jessie's Girl\"),\n",
       " (7.5, \"Todd Snider/Don't Tempt Me\"),\n",
       " (8.0, 'Mike Posner'),\n",
       " (9.5, 'Heartless Bastards/Out at Sea'),\n",
       " (10.5, 'Black Eyed Peas/Rock That Body'),\n",
       " (10.5, 'Dr Dog/Fate'),\n",
       " (10.5, 'La Roux/Bulletproof'),\n",
       " (10.5, 'Phoenix/Lisztomania'),\n",
       " (14.0, 'The Black Keys/Magic Potion')]"
      ]
     },
     "execution_count": 352,
     "metadata": {},
     "output_type": "execute_result"
    }
   ],
   "source": [
    "computeNearestNeighborSongs('Cagle',pd.Series([1, 5, 2.5, 1, 1, 5, 1],index=['piano','vocals','beat','blues','guitar','backup vocals','rap']),music)"
   ]
  },
  {
   "cell_type": "code",
   "execution_count": 353,
   "metadata": {
    "collapsed": false
   },
   "outputs": [
    {
     "data": {
      "text/plain": [
       "'L'"
      ]
     },
     "execution_count": 353,
     "metadata": {},
     "output_type": "execute_result"
    }
   ],
   "source": [
    "classify('Angelica','Cagle',pd.Series([1, 5, 2.5, 1, 1, 5, 1],index=['piano','vocals','beat','blues','guitar','backup vocals','rap']),users,music)"
   ]
  },
  {
   "cell_type": "code",
   "execution_count": 354,
   "metadata": {
    "collapsed": true
   },
   "outputs": [],
   "source": [
    "atheletsTraining = pd.read_csv('athletesTrainingSet.txt',sep='\\t')"
   ]
  },
  {
   "cell_type": "code",
   "execution_count": 355,
   "metadata": {
    "collapsed": false
   },
   "outputs": [
    {
     "data": {
      "text/plain": [
       "7.6562667830106061"
      ]
     },
     "execution_count": 355,
     "metadata": {},
     "output_type": "execute_result"
    }
   ],
   "source": [
    "atheletsTraining[\"Height\"].std()"
   ]
  },
  {
   "cell_type": "code",
   "execution_count": 356,
   "metadata": {
    "collapsed": false
   },
   "outputs": [
    {
     "data": {
      "text/html": [
       "<div style=\"max-height:1000px;max-width:1500px;overflow:auto;\">\n",
       "<table border=\"1\" class=\"dataframe\">\n",
       "  <thead>\n",
       "    <tr style=\"text-align: right;\">\n",
       "      <th></th>\n",
       "      <th>comment</th>\n",
       "      <th>class</th>\n",
       "      <th>Height</th>\n",
       "      <th>Weight</th>\n",
       "    </tr>\n",
       "  </thead>\n",
       "  <tbody>\n",
       "    <tr>\n",
       "      <th>0 </th>\n",
       "      <td>   Asuka Teramoto</td>\n",
       "      <td> Gymnastics</td>\n",
       "      <td> 54</td>\n",
       "      <td>  66</td>\n",
       "    </tr>\n",
       "    <tr>\n",
       "      <th>1 </th>\n",
       "      <td> Brittainey Raven</td>\n",
       "      <td> Basketball</td>\n",
       "      <td> 72</td>\n",
       "      <td> 162</td>\n",
       "    </tr>\n",
       "    <tr>\n",
       "      <th>2 </th>\n",
       "      <td>         Chen Nan</td>\n",
       "      <td> Basketball</td>\n",
       "      <td> 78</td>\n",
       "      <td> 204</td>\n",
       "    </tr>\n",
       "    <tr>\n",
       "      <th>3 </th>\n",
       "      <td>    Gabby Douglas</td>\n",
       "      <td> Gymnastics</td>\n",
       "      <td> 49</td>\n",
       "      <td>  90</td>\n",
       "    </tr>\n",
       "    <tr>\n",
       "      <th>4 </th>\n",
       "      <td> Helalia Johannes</td>\n",
       "      <td>      Track</td>\n",
       "      <td> 65</td>\n",
       "      <td>  99</td>\n",
       "    </tr>\n",
       "    <tr>\n",
       "      <th>5 </th>\n",
       "      <td>  Irina Miketenko</td>\n",
       "      <td>      Track</td>\n",
       "      <td> 63</td>\n",
       "      <td> 106</td>\n",
       "    </tr>\n",
       "    <tr>\n",
       "      <th>6 </th>\n",
       "      <td>    Jennifer Lacy</td>\n",
       "      <td> Basketball</td>\n",
       "      <td> 75</td>\n",
       "      <td> 175</td>\n",
       "    </tr>\n",
       "    <tr>\n",
       "      <th>7 </th>\n",
       "      <td>     Kara Goucher</td>\n",
       "      <td>      Track</td>\n",
       "      <td> 67</td>\n",
       "      <td> 123</td>\n",
       "    </tr>\n",
       "    <tr>\n",
       "      <th>8 </th>\n",
       "      <td>      Linlin Deng</td>\n",
       "      <td> Gymnastics</td>\n",
       "      <td> 54</td>\n",
       "      <td>  68</td>\n",
       "    </tr>\n",
       "    <tr>\n",
       "      <th>9 </th>\n",
       "      <td>    Nakia Sanford</td>\n",
       "      <td> Basketball</td>\n",
       "      <td> 76</td>\n",
       "      <td> 200</td>\n",
       "    </tr>\n",
       "    <tr>\n",
       "      <th>10</th>\n",
       "      <td>       Nikki Blue</td>\n",
       "      <td> Basketball</td>\n",
       "      <td> 68</td>\n",
       "      <td> 163</td>\n",
       "    </tr>\n",
       "    <tr>\n",
       "      <th>11</th>\n",
       "      <td>  Qiushuang Huang</td>\n",
       "      <td> Gymnastics</td>\n",
       "      <td> 61</td>\n",
       "      <td>  95</td>\n",
       "    </tr>\n",
       "    <tr>\n",
       "      <th>12</th>\n",
       "      <td>   Rebecca Tunney</td>\n",
       "      <td> Gymnastics</td>\n",
       "      <td> 58</td>\n",
       "      <td>  77</td>\n",
       "    </tr>\n",
       "    <tr>\n",
       "      <th>13</th>\n",
       "      <td>      Rene Kalmer</td>\n",
       "      <td>      Track</td>\n",
       "      <td> 70</td>\n",
       "      <td> 108</td>\n",
       "    </tr>\n",
       "    <tr>\n",
       "      <th>14</th>\n",
       "      <td>  Shanna Crossley</td>\n",
       "      <td> Basketball</td>\n",
       "      <td> 70</td>\n",
       "      <td> 155</td>\n",
       "    </tr>\n",
       "    <tr>\n",
       "      <th>15</th>\n",
       "      <td> Shavonte Zellous</td>\n",
       "      <td> Basketball</td>\n",
       "      <td> 70</td>\n",
       "      <td> 155</td>\n",
       "    </tr>\n",
       "    <tr>\n",
       "      <th>16</th>\n",
       "      <td>  Tatyana Petrova</td>\n",
       "      <td>      Track</td>\n",
       "      <td> 63</td>\n",
       "      <td> 108</td>\n",
       "    </tr>\n",
       "    <tr>\n",
       "      <th>17</th>\n",
       "      <td>      Tiki Gelana</td>\n",
       "      <td>      Track</td>\n",
       "      <td> 65</td>\n",
       "      <td> 106</td>\n",
       "    </tr>\n",
       "    <tr>\n",
       "      <th>18</th>\n",
       "      <td>  Valeria Straneo</td>\n",
       "      <td>      Track</td>\n",
       "      <td> 66</td>\n",
       "      <td>  97</td>\n",
       "    </tr>\n",
       "    <tr>\n",
       "      <th>19</th>\n",
       "      <td>  Viktoria Komova</td>\n",
       "      <td> Gymnastics</td>\n",
       "      <td> 61</td>\n",
       "      <td>  76</td>\n",
       "    </tr>\n",
       "  </tbody>\n",
       "</table>\n",
       "</div>"
      ],
      "text/plain": [
       "             comment       class  Height  Weight\n",
       "0     Asuka Teramoto  Gymnastics      54      66\n",
       "1   Brittainey Raven  Basketball      72     162\n",
       "2           Chen Nan  Basketball      78     204\n",
       "3      Gabby Douglas  Gymnastics      49      90\n",
       "4   Helalia Johannes       Track      65      99\n",
       "5    Irina Miketenko       Track      63     106\n",
       "6      Jennifer Lacy  Basketball      75     175\n",
       "7       Kara Goucher       Track      67     123\n",
       "8        Linlin Deng  Gymnastics      54      68\n",
       "9      Nakia Sanford  Basketball      76     200\n",
       "10        Nikki Blue  Basketball      68     163\n",
       "11   Qiushuang Huang  Gymnastics      61      95\n",
       "12    Rebecca Tunney  Gymnastics      58      77\n",
       "13       Rene Kalmer       Track      70     108\n",
       "14   Shanna Crossley  Basketball      70     155\n",
       "15  Shavonte Zellous  Basketball      70     155\n",
       "16   Tatyana Petrova       Track      63     108\n",
       "17       Tiki Gelana       Track      65     106\n",
       "18   Valeria Straneo       Track      66      97\n",
       "19   Viktoria Komova  Gymnastics      61      76"
      ]
     },
     "execution_count": 356,
     "metadata": {},
     "output_type": "execute_result"
    }
   ],
   "source": [
    "atheletsTraining"
   ]
  },
  {
   "cell_type": "code",
   "execution_count": 357,
   "metadata": {
    "collapsed": false
   },
   "outputs": [],
   "source": [
    "atheletsTraining[\"normalizedHeight\"] =  normalize(\"Height\",atheletsTraining)"
   ]
  },
  {
   "cell_type": "code",
   "execution_count": 358,
   "metadata": {
    "collapsed": true
   },
   "outputs": [],
   "source": [
    "atheletsTraining[\"normalizedWeight\"] =  normalize(\"Weight\",atheletsTraining)"
   ]
  },
  {
   "cell_type": "code",
   "execution_count": 359,
   "metadata": {
    "collapsed": false
   },
   "outputs": [],
   "source": [
    "nip=normalizeInput([70,170],atheletsTraining)"
   ]
  },
  {
   "cell_type": "code",
   "execution_count": 360,
   "metadata": {
    "collapsed": false
   },
   "outputs": [
    {
     "data": {
      "text/plain": [
       "[0.75630252100840334, 1.8722139673105498]"
      ]
     },
     "execution_count": 360,
     "metadata": {},
     "output_type": "execute_result"
    }
   ],
   "source": [
    "nip\n",
    " "
   ]
  },
  {
   "cell_type": "code",
   "execution_count": 361,
   "metadata": {
    "collapsed": false
   },
   "outputs": [
    {
     "data": {
      "text/plain": [
       "54"
      ]
     },
     "execution_count": 361,
     "metadata": {},
     "output_type": "execute_result"
    }
   ],
   "source": [
    "atheletsTraining.ix[0][\"Height\"]"
   ]
  },
  {
   "cell_type": "code",
   "execution_count": 362,
   "metadata": {
    "collapsed": false
   },
   "outputs": [
    {
     "ename": "TypeError",
     "evalue": "unsupported operand type(s) for -: 'tuple' and 'tuple'",
     "output_type": "error",
     "traceback": [
      "\u001b[1;31m---------------------------------------------------------------------------\u001b[0m",
      "\u001b[1;31mTypeError\u001b[0m                                 Traceback (most recent call last)",
      "\u001b[1;32m<ipython-input-362-b2ae8aa48d51>\u001b[0m in \u001b[0;36m<module>\u001b[1;34m()\u001b[0m\n\u001b[1;32m----> 1\u001b[1;33m \u001b[1;33m(\u001b[0m\u001b[1;36m0\u001b[0m\u001b[1;33m,\u001b[0m\u001b[1;36m1\u001b[0m\u001b[1;33m)\u001b[0m\u001b[1;33m-\u001b[0m\u001b[1;33m(\u001b[0m\u001b[1;36m1\u001b[0m\u001b[1;33m,\u001b[0m\u001b[1;36m0\u001b[0m\u001b[1;33m)\u001b[0m\u001b[1;33m\u001b[0m\u001b[0m\n\u001b[0m",
      "\u001b[1;31mTypeError\u001b[0m: unsupported operand type(s) for -: 'tuple' and 'tuple'"
     ]
    }
   ],
   "source": [
    "(0,1)-(1,0)"
   ]
  },
  {
   "cell_type": "code",
   "execution_count": 363,
   "metadata": {
    "collapsed": false
   },
   "outputs": [],
   "source": [
    "x = np.array([1,1])"
   ]
  },
  {
   "cell_type": "code",
   "execution_count": 364,
   "metadata": {
    "collapsed": true
   },
   "outputs": [],
   "source": [
    "y = np.array([2,2])"
   ]
  },
  {
   "cell_type": "code",
   "execution_count": null,
   "metadata": {
    "collapsed": false
   },
   "outputs": [],
   "source": []
  },
  {
   "cell_type": "code",
   "execution_count": 365,
   "metadata": {
    "collapsed": false
   },
   "outputs": [
    {
     "data": {
      "text/plain": [
       "2"
      ]
     },
     "execution_count": 365,
     "metadata": {},
     "output_type": "execute_result"
    }
   ],
   "source": [
    "sum(map(lambda u,v: abs(u-v),x,y))"
   ]
  },
  {
   "cell_type": "code",
   "execution_count": 367,
   "metadata": {
    "collapsed": false
   },
   "outputs": [
    {
     "data": {
      "text/plain": [
       "[0.44576523031203563, 'Shanna Crossley', 'Basketball']"
      ]
     },
     "execution_count": 367,
     "metadata": {},
     "output_type": "execute_result"
    }
   ],
   "source": [
    "computeNearestNeighborW(nip,atheletsTraining)"
   ]
  },
  {
   "cell_type": "code",
   "execution_count": null,
   "metadata": {
    "collapsed": true
   },
   "outputs": [],
   "source": []
  },
  {
   "cell_type": "code",
   "execution_count": null,
   "metadata": {
    "collapsed": true
   },
   "outputs": [],
   "source": []
  }
 ],
 "metadata": {
  "kernelspec": {
   "display_name": "Python 3",
   "language": "python",
   "name": "python3"
  },
  "language_info": {
   "codemirror_mode": {
    "name": "ipython",
    "version": 3
   },
   "file_extension": ".py",
   "mimetype": "text/x-python",
   "name": "python",
   "nbconvert_exporter": "python",
   "pygments_lexer": "ipython3",
   "version": "3.3.5"
  }
 },
 "nbformat": 4,
 "nbformat_minor": 0
}
