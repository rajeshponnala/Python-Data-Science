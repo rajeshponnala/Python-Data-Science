{
 "cells": [
  {
   "cell_type": "code",
   "execution_count": 38,
   "metadata": {
    "collapsed": false
   },
   "outputs": [
    {
     "name": "stdout",
     "output_type": "stream",
     "text": [
      "                   name  title  salary\n",
      "department                            \n",
      "ADMIN HEARNG         42     42      42\n",
      "ANIMAL CONTRL        61     61      61\n",
      "AVIATION           1218   1218    1218\n",
      "BOARD OF ELECTION   110    110     110\n",
      "BOARD OF ETHICS       9      9       9\n",
      "\n",
      "\n",
      "department\n",
      "ADMIN HEARNG           42\n",
      "ANIMAL CONTRL          61\n",
      "AVIATION             1218\n",
      "BOARD OF ELECTION     110\n",
      "BOARD OF ETHICS         9\n",
      "dtype: int64\n",
      "\n",
      "\n",
      "                       salary\n",
      "department                   \n",
      "HUMAN RESOURCES     4850928.0\n",
      "INSPECTOR GEN       4035150.0\n",
      "IPRA                7006128.0\n",
      "LAW                31883920.2\n",
      "LICENSE APPL COMM     65436.0\n",
      "\n",
      "\n",
      "                         salary\n",
      "department                     \n",
      "HUMAN RESOURCES    71337.176471\n",
      "INSPECTOR GEN      80703.000000\n",
      "IPRA               82425.035294\n",
      "LAW                70853.156000\n",
      "LICENSE APPL COMM  65436.000000\n",
      "\n",
      "\n",
      "                   salary\n",
      "department               \n",
      "HUMAN RESOURCES     68496\n",
      "INSPECTOR GEN       76116\n",
      "IPRA                82524\n",
      "LAW                 66492\n",
      "LICENSE APPL COMM   65436\n",
      "\n",
      "\n",
      "department\n",
      "WATER MGMNT    153\n",
      "TRANSPORTN     150\n",
      "POLICE         130\n",
      "AVIATION       125\n",
      "HEALTH         118\n",
      "Name: title, dtype: int64\n",
      "                         name                     title      department  \\\n",
      "18039     MC CARTHY,  GARRY F  SUPERINTENDENT OF POLICE          POLICE   \n",
      "8004           EMANUEL,  RAHM                     MAYOR  MAYOR'S OFFICE   \n",
      "25588       SANTIAGO,  JOSE A         FIRE COMMISSIONER            FIRE   \n",
      "763    ANDOLINO,  ROSEMARIE S  COMMISSIONER OF AVIATION        AVIATION   \n",
      "4697     CHOUCAIR,  BECHARA N    COMMISSIONER OF HEALTH          HEALTH   \n",
      "21971      PATTON,  STEPHEN R       CORPORATION COUNSEL             LAW   \n",
      "12635      HOLT,  ALEXANDRA D                BUDGET DIR   BUDGET & MGMT   \n",
      "\n",
      "       salary  dept_rank  \n",
      "18039  260004          1  \n",
      "8004   216210          1  \n",
      "25588  202728          1  \n",
      "763    186576          1  \n",
      "4697   177156          1  \n",
      "21971  173664          1  \n",
      "12635  169992          1  \n",
      "name               MC CARTHY,  GARRY F\n",
      "title         SUPERINTENDENT OF POLICE\n",
      "department                      POLICE\n",
      "salary                          260004\n",
      "dept_rank                            1\n",
      "Name: 18039, dtype: object\n"
     ]
    }
   ],
   "source": [
    "%run groupby.py"
   ]
  },
  {
   "cell_type": "code",
   "execution_count": null,
   "metadata": {
    "collapsed": true
   },
   "outputs": [],
   "source": []
  },
  {
   "cell_type": "code",
   "execution_count": null,
   "metadata": {
    "collapsed": true
   },
   "outputs": [],
   "source": []
  }
 ],
 "metadata": {
  "kernelspec": {
   "display_name": "Python 3",
   "language": "python",
   "name": "python3"
  },
  "language_info": {
   "codemirror_mode": {
    "name": "ipython",
    "version": 3
   },
   "file_extension": ".py",
   "mimetype": "text/x-python",
   "name": "python",
   "nbconvert_exporter": "python",
   "pygments_lexer": "ipython3",
   "version": "3.3.5"
  }
 },
 "nbformat": 4,
 "nbformat_minor": 0
}
