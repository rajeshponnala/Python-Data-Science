{
 "cells": [
  {
   "cell_type": "code",
   "execution_count": 58,
   "metadata": {
    "collapsed": false,
    "scrolled": true
   },
   "outputs": [],
   "source": [
    "%run movieclassify.py\n",
    "#y = loadData().ix[72]\n",
    "#y= y[1:].index.map(lambda x: int(x))\n",
    "#lens[\"rating\"][(lens[\"user_id\"].isin(y)) & (lens[\"movie_id\"] == 5)].mode()"
   ]
  },
  {
   "cell_type": "code",
   "execution_count": 65,
   "metadata": {
    "collapsed": false
   },
   "outputs": [
    {
     "data": {
      "text/html": [
       "<div style=\"max-height:1000px;max-width:1500px;overflow:auto;\">\n",
       "<table border=\"1\" class=\"dataframe\">\n",
       "  <thead>\n",
       "    <tr style=\"text-align: right;\">\n",
       "      <th></th>\n",
       "      <th>movie_id</th>\n",
       "      <th>video_release_date</th>\n",
       "      <th>user_id</th>\n",
       "      <th>rating</th>\n",
       "      <th>unix_timestamp</th>\n",
       "      <th>age</th>\n",
       "    </tr>\n",
       "  </thead>\n",
       "  <tbody>\n",
       "    <tr>\n",
       "      <th>count</th>\n",
       "      <td> 100000.000000</td>\n",
       "      <td>  0</td>\n",
       "      <td> 100000.00000</td>\n",
       "      <td> 100000.000000</td>\n",
       "      <td> 1.000000e+05</td>\n",
       "      <td> 100000.000000</td>\n",
       "    </tr>\n",
       "    <tr>\n",
       "      <th>mean</th>\n",
       "      <td>    425.530130</td>\n",
       "      <td>NaN</td>\n",
       "      <td>    462.48475</td>\n",
       "      <td>      3.529860</td>\n",
       "      <td> 8.835289e+08</td>\n",
       "      <td>     32.969850</td>\n",
       "    </tr>\n",
       "    <tr>\n",
       "      <th>std</th>\n",
       "      <td>    330.798356</td>\n",
       "      <td>NaN</td>\n",
       "      <td>    266.61442</td>\n",
       "      <td>      1.125674</td>\n",
       "      <td> 5.343856e+06</td>\n",
       "      <td>     11.562623</td>\n",
       "    </tr>\n",
       "    <tr>\n",
       "      <th>min</th>\n",
       "      <td>      1.000000</td>\n",
       "      <td>NaN</td>\n",
       "      <td>      1.00000</td>\n",
       "      <td>      1.000000</td>\n",
       "      <td> 8.747247e+08</td>\n",
       "      <td>      7.000000</td>\n",
       "    </tr>\n",
       "    <tr>\n",
       "      <th>25%</th>\n",
       "      <td>    175.000000</td>\n",
       "      <td>NaN</td>\n",
       "      <td>    254.00000</td>\n",
       "      <td>      3.000000</td>\n",
       "      <td> 8.794487e+08</td>\n",
       "      <td>     24.000000</td>\n",
       "    </tr>\n",
       "    <tr>\n",
       "      <th>50%</th>\n",
       "      <td>    322.000000</td>\n",
       "      <td>NaN</td>\n",
       "      <td>    447.00000</td>\n",
       "      <td>      4.000000</td>\n",
       "      <td> 8.828269e+08</td>\n",
       "      <td>     30.000000</td>\n",
       "    </tr>\n",
       "    <tr>\n",
       "      <th>75%</th>\n",
       "      <td>    631.000000</td>\n",
       "      <td>NaN</td>\n",
       "      <td>    682.00000</td>\n",
       "      <td>      4.000000</td>\n",
       "      <td> 8.882600e+08</td>\n",
       "      <td>     40.000000</td>\n",
       "    </tr>\n",
       "    <tr>\n",
       "      <th>max</th>\n",
       "      <td>   1682.000000</td>\n",
       "      <td>NaN</td>\n",
       "      <td>    943.00000</td>\n",
       "      <td>      5.000000</td>\n",
       "      <td> 8.932866e+08</td>\n",
       "      <td>     73.000000</td>\n",
       "    </tr>\n",
       "  </tbody>\n",
       "</table>\n",
       "</div>"
      ],
      "text/plain": [
       "            movie_id  video_release_date       user_id         rating  \\\n",
       "count  100000.000000                   0  100000.00000  100000.000000   \n",
       "mean      425.530130                 NaN     462.48475       3.529860   \n",
       "std       330.798356                 NaN     266.61442       1.125674   \n",
       "min         1.000000                 NaN       1.00000       1.000000   \n",
       "25%       175.000000                 NaN     254.00000       3.000000   \n",
       "50%       322.000000                 NaN     447.00000       4.000000   \n",
       "75%       631.000000                 NaN     682.00000       4.000000   \n",
       "max      1682.000000                 NaN     943.00000       5.000000   \n",
       "\n",
       "       unix_timestamp            age  \n",
       "count    1.000000e+05  100000.000000  \n",
       "mean     8.835289e+08      32.969850  \n",
       "std      5.343856e+06      11.562623  \n",
       "min      8.747247e+08       7.000000  \n",
       "25%      8.794487e+08      24.000000  \n",
       "50%      8.828269e+08      30.000000  \n",
       "75%      8.882600e+08      40.000000  \n",
       "max      8.932866e+08      73.000000  "
      ]
     },
     "execution_count": 65,
     "metadata": {},
     "output_type": "execute_result"
    }
   ],
   "source": [
    "lens.describe()"
   ]
  },
  {
   "cell_type": "code",
   "execution_count": 67,
   "metadata": {
    "collapsed": false
   },
   "outputs": [
    {
     "data": {
      "text/plain": [
       "<matplotlib.axes._subplots.AxesSubplot at 0x7efe444c1c50>"
      ]
     },
     "execution_count": 67,
     "metadata": {},
     "output_type": "execute_result"
    }
   ],
   "source": [
    " lens[\"rating\"].hist(bins=20)"
   ]
  },
  {
   "cell_type": "code",
   "execution_count": 68,
   "metadata": {
    "collapsed": true
   },
   "outputs": [],
   "source": [
    "plt.show()"
   ]
  },
  {
   "cell_type": "code",
   "execution_count": 73,
   "metadata": {
    "collapsed": false
   },
   "outputs": [
    {
     "data": {
      "text/plain": [
       "array([4, 5, 3, 2, 1])"
      ]
     },
     "execution_count": 73,
     "metadata": {},
     "output_type": "execute_result"
    }
   ],
   "source": [
    "lens[\"rating\"].unique()"
   ]
  },
  {
   "cell_type": "code",
   "execution_count": 78,
   "metadata": {
    "collapsed": false
   },
   "outputs": [
    {
     "data": {
      "text/plain": [
       "59.45303210463734"
      ]
     },
     "execution_count": 78,
     "metadata": {},
     "output_type": "execute_result"
    }
   ],
   "source": [
    "len(lens.index)/len(lens[\"movie_id\"].unique())"
   ]
  },
  {
   "cell_type": "code",
   "execution_count": 79,
   "metadata": {
    "collapsed": false
   },
   "outputs": [
    {
     "data": {
      "text/plain": [
       "0    5\n",
       "dtype: int64"
      ]
     },
     "execution_count": 79,
     "metadata": {},
     "output_type": "execute_result"
    }
   ],
   "source": [
    "predictUserMovieRating(56,8,df4)"
   ]
  },
  {
   "cell_type": "code",
   "execution_count": 85,
   "metadata": {
    "collapsed": false
   },
   "outputs": [
    {
     "data": {
      "text/plain": [
       "21"
      ]
     },
     "execution_count": 85,
     "metadata": {},
     "output_type": "execute_result"
    }
   ],
   "source": [
    "len(users[\"occupation\"].unique())"
   ]
  },
  {
   "cell_type": "code",
   "execution_count": 86,
   "metadata": {
    "collapsed": false
   },
   "outputs": [
    {
     "data": {
      "text/plain": [
       "0    student\n",
       "dtype: object"
      ]
     },
     "execution_count": 86,
     "metadata": {},
     "output_type": "execute_result"
    }
   ],
   "source": [
    "users[\"occupation\"].mode()"
   ]
  },
  {
   "cell_type": "code",
   "execution_count": 90,
   "metadata": {
    "collapsed": false
   },
   "outputs": [],
   "source": [
    "y = lens[lens[\"movie_id\"] == 8].groupby('sex').size()"
   ]
  },
  {
   "cell_type": "code",
   "execution_count": 94,
   "metadata": {
    "collapsed": false
   },
   "outputs": [
    {
     "data": {
      "text/plain": [
       "sex\n",
       "F      4.050000\n",
       "M      3.974843\n",
       "dtype: float64"
      ]
     },
     "execution_count": 94,
     "metadata": {},
     "output_type": "execute_result"
    }
   ],
   "source": [
    "lens[lens[\"movie_id\"] == 8].groupby('sex').apply(lambda x: x['rating'].sum()/x['rating'].count())"
   ]
  },
  {
   "cell_type": "code",
   "execution_count": 130,
   "metadata": {
    "collapsed": false
   },
   "outputs": [
    {
     "data": {
      "text/html": [
       "<div style=\"max-height:1000px;max-width:1500px;overflow:auto;\">\n",
       "<table border=\"1\" class=\"dataframe\">\n",
       "  <thead>\n",
       "    <tr style=\"text-align: right;\">\n",
       "      <th></th>\n",
       "      <th>movie_id</th>\n",
       "      <th>video_release_date</th>\n",
       "      <th>user_id</th>\n",
       "      <th>rating</th>\n",
       "      <th>unix_timestamp</th>\n",
       "      <th>age</th>\n",
       "    </tr>\n",
       "  </thead>\n",
       "  <tbody>\n",
       "    <tr>\n",
       "      <th>count</th>\n",
       "      <td> 100000.000000</td>\n",
       "      <td>  0</td>\n",
       "      <td> 100000.00000</td>\n",
       "      <td> 100000.000000</td>\n",
       "      <td> 1.000000e+05</td>\n",
       "      <td> 100000.000000</td>\n",
       "    </tr>\n",
       "    <tr>\n",
       "      <th>mean</th>\n",
       "      <td>    425.530130</td>\n",
       "      <td>NaN</td>\n",
       "      <td>    462.48475</td>\n",
       "      <td>      3.529860</td>\n",
       "      <td> 8.835289e+08</td>\n",
       "      <td>     32.969850</td>\n",
       "    </tr>\n",
       "    <tr>\n",
       "      <th>std</th>\n",
       "      <td>    330.798356</td>\n",
       "      <td>NaN</td>\n",
       "      <td>    266.61442</td>\n",
       "      <td>      1.125674</td>\n",
       "      <td> 5.343856e+06</td>\n",
       "      <td>     11.562623</td>\n",
       "    </tr>\n",
       "    <tr>\n",
       "      <th>min</th>\n",
       "      <td>      1.000000</td>\n",
       "      <td>NaN</td>\n",
       "      <td>      1.00000</td>\n",
       "      <td>      1.000000</td>\n",
       "      <td> 8.747247e+08</td>\n",
       "      <td>      7.000000</td>\n",
       "    </tr>\n",
       "    <tr>\n",
       "      <th>25%</th>\n",
       "      <td>    175.000000</td>\n",
       "      <td>NaN</td>\n",
       "      <td>    254.00000</td>\n",
       "      <td>      3.000000</td>\n",
       "      <td> 8.794487e+08</td>\n",
       "      <td>     24.000000</td>\n",
       "    </tr>\n",
       "    <tr>\n",
       "      <th>50%</th>\n",
       "      <td>    322.000000</td>\n",
       "      <td>NaN</td>\n",
       "      <td>    447.00000</td>\n",
       "      <td>      4.000000</td>\n",
       "      <td> 8.828269e+08</td>\n",
       "      <td>     30.000000</td>\n",
       "    </tr>\n",
       "    <tr>\n",
       "      <th>75%</th>\n",
       "      <td>    631.000000</td>\n",
       "      <td>NaN</td>\n",
       "      <td>    682.00000</td>\n",
       "      <td>      4.000000</td>\n",
       "      <td> 8.882600e+08</td>\n",
       "      <td>     40.000000</td>\n",
       "    </tr>\n",
       "    <tr>\n",
       "      <th>max</th>\n",
       "      <td>   1682.000000</td>\n",
       "      <td>NaN</td>\n",
       "      <td>    943.00000</td>\n",
       "      <td>      5.000000</td>\n",
       "      <td> 8.932866e+08</td>\n",
       "      <td>     73.000000</td>\n",
       "    </tr>\n",
       "  </tbody>\n",
       "</table>\n",
       "</div>"
      ],
      "text/plain": [
       "            movie_id  video_release_date       user_id         rating  \\\n",
       "count  100000.000000                   0  100000.00000  100000.000000   \n",
       "mean      425.530130                 NaN     462.48475       3.529860   \n",
       "std       330.798356                 NaN     266.61442       1.125674   \n",
       "min         1.000000                 NaN       1.00000       1.000000   \n",
       "25%       175.000000                 NaN     254.00000       3.000000   \n",
       "50%       322.000000                 NaN     447.00000       4.000000   \n",
       "75%       631.000000                 NaN     682.00000       4.000000   \n",
       "max      1682.000000                 NaN     943.00000       5.000000   \n",
       "\n",
       "       unix_timestamp            age  \n",
       "count    1.000000e+05  100000.000000  \n",
       "mean     8.835289e+08      32.969850  \n",
       "std      5.343856e+06      11.562623  \n",
       "min      8.747247e+08       7.000000  \n",
       "25%      8.794487e+08      24.000000  \n",
       "50%      8.828269e+08      30.000000  \n",
       "75%      8.882600e+08      40.000000  \n",
       "max      8.932866e+08      73.000000  "
      ]
     },
     "execution_count": 130,
     "metadata": {},
     "output_type": "execute_result"
    }
   ],
   "source": [
    "lens.describe()"
   ]
  },
  {
   "cell_type": "code",
   "execution_count": 152,
   "metadata": {
    "collapsed": false
   },
   "outputs": [
    {
     "data": {
      "text/plain": [
       "899      NaN\n",
       "2092     NaN\n",
       "11419    NaN\n",
       "20369    NaN\n",
       "23138    NaN\n",
       "27774    NaN\n",
       "41706    NaN\n",
       "78071    NaN\n",
       "99692    NaN\n",
       "Name: release_date, dtype: object"
      ]
     },
     "execution_count": 152,
     "metadata": {},
     "output_type": "execute_result"
    }
   ],
   "source": [
    "lens[\"release_date\"][pd.isnull(lens[\"release_date\"])]"
   ]
  },
  {
   "cell_type": "code",
   "execution_count": 153,
   "metadata": {
    "collapsed": false
   },
   "outputs": [
    {
     "data": {
      "text/plain": [
       "movie_id                    267\n",
       "title                   unknown\n",
       "release_date                NaN\n",
       "video_release_date          NaN\n",
       "imdb_url                    NaN\n",
       "user_id                       5\n",
       "rating                        4\n",
       "unix_timestamp        875635064\n",
       "age                          33\n",
       "sex                           F\n",
       "occupation                other\n",
       "zip_code                  15213\n",
       "Name: 899, dtype: object"
      ]
     },
     "execution_count": 153,
     "metadata": {},
     "output_type": "execute_result"
    }
   ],
   "source": [
    "lens.ix[899]"
   ]
  },
  {
   "cell_type": "code",
   "execution_count": null,
   "metadata": {
    "collapsed": true
   },
   "outputs": [],
   "source": []
  }
 ],
 "metadata": {
  "kernelspec": {
   "display_name": "Python 3",
   "language": "python",
   "name": "python3"
  },
  "language_info": {
   "codemirror_mode": {
    "name": "ipython",
    "version": 3
   },
   "file_extension": ".py",
   "mimetype": "text/x-python",
   "name": "python",
   "nbconvert_exporter": "python",
   "pygments_lexer": "ipython3",
   "version": "3.3.5"
  }
 },
 "nbformat": 4,
 "nbformat_minor": 0
}
