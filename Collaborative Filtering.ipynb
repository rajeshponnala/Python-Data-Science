{
 "cells": [
  {
   "cell_type": "code",
   "execution_count": 5,
   "metadata": {
    "collapsed": true
   },
   "outputs": [],
   "source": [
    "users = {\"Angelica\": {\"Blues Traveler\": 3.5, \"Broken Bells\": 2.0,\n",
    "\"Norah Jones\": 4.5, \"Phoenix\": 5.0,\n",
    "\"Slightly Stoopid\": 1.5,\n",
    "\"The Strokes\": 2.5, \"Vampire Weekend\": 2.0},\n",
    "\"Bill\": {\"Blues Traveler\": 2.0, \"Broken Bells\": 3.5,\n",
    "\"Deadmau5\": 4.0, \"Phoenix\": 2.0,\n",
    "\"Slightly Stoopid\": 3.5, \"Vampire Weekend\": 3.0},\n",
    "\"Chan\": {\"Blues Traveler\": 5.0, \"Broken Bells\": 1.0,\n",
    "\"Deadmau5\": 1.0, \"Norah Jones\": 3.0,\n",
    "\"Phoenix\": 5, \"Slightly Stoopid\": 1.0},\n",
    "\"Dan\": {\"Blues Traveler\": 3.0, \"Broken Bells\": 4.0,\n",
    "\"Deadmau5\": 4.5, \"Phoenix\": 3.0,\n",
    "\"Slightly Stoopid\": 4.5, \"The Strokes\": 4.0,\n",
    "\"Vampire Weekend\": 2.0},\n",
    "\"Hailey\": {\"Broken Bells\": 4.0, \"Deadmau5\": 1.0,\n",
    "\"Norah Jones\": 4.0, \"The Strokes\": 4.0,\n",
    "\"Vampire Weekend\": 1.0},\n",
    "\"Jordyn\": {\"Broken Bells\": 4.5, \"Deadmau5\": 4.0, \"Norah Jones\": 5.0,\n",
    "\"Phoenix\": 5.0, \"Slightly Stoopid\": 4.5,\n",
    "\"The Strokes\": 4.0, \"Vampire Weekend\": 4.0},\n",
    "\"Sam\": {\"Blues Traveler\": 5.0, \"Broken Bells\": 2.0,\n",
    "\"Norah Jones\": 3.0, \"Phoenix\": 5.0,\n",
    "\"Slightly Stoopid\": 4.0, \"The Strokes\": 5.0},\n",
    "\"Veronica\": {\"Blues Traveler\": 3.0, \"Norah Jones\": 5.0,\n",
    "\"Phoenix\": 4.0, \"Slightly Stoopid\": 2.5,\n",
    "\"The Strokes\": 3.0}}"
   ]
  },
  {
   "cell_type": "code",
   "execution_count": 6,
   "metadata": {
    "collapsed": false
   },
   "outputs": [
    {
     "data": {
      "text/plain": [
       "{'Blues Traveler': 3.0,\n",
       " 'Norah Jones': 5.0,\n",
       " 'Phoenix': 4.0,\n",
       " 'Slightly Stoopid': 2.5,\n",
       " 'The Strokes': 3.0}"
      ]
     },
     "execution_count": 6,
     "metadata": {},
     "output_type": "execute_result"
    }
   ],
   "source": [
    "users[\"Veronica\"]"
   ]
  },
  {
   "cell_type": "code",
   "execution_count": 7,
   "metadata": {
    "collapsed": true
   },
   "outputs": [],
   "source": [
    "def manhattan(rating1,rating2):\n",
    "    distance = 0\n",
    "    for key in rating1:\n",
    "        if key in rating2:\n",
    "            distance += abs(rating1[key]-rating2[key])\n",
    "    return distance\n",
    "            "
   ]
  },
  {
   "cell_type": "code",
   "execution_count": 8,
   "metadata": {
    "collapsed": false
   },
   "outputs": [
    {
     "data": {
      "text/plain": [
       "2.0"
      ]
     },
     "execution_count": 8,
     "metadata": {},
     "output_type": "execute_result"
    }
   ],
   "source": [
    "manhattan(users['Hailey'], users['Veronica'])"
   ]
  },
  {
   "cell_type": "code",
   "execution_count": 9,
   "metadata": {
    "collapsed": false
   },
   "outputs": [
    {
     "data": {
      "text/plain": [
       "7.5"
      ]
     },
     "execution_count": 9,
     "metadata": {},
     "output_type": "execute_result"
    }
   ],
   "source": [
    "manhattan(users['Hailey'], users['Jordyn'])"
   ]
  },
  {
   "cell_type": "code",
   "execution_count": 10,
   "metadata": {
    "collapsed": false
   },
   "outputs": [],
   "source": [
    "def computeNearestNeighbor(username,users):\n",
    "    distances = []\n",
    "    for user in users:\n",
    "        if user != username:\n",
    "           # distance = manhattan(users[user],users[username])\n",
    "             # distance = minkowski(users[user],users[username],1) #manhattan \n",
    "              distance = minkowski(users[user],users[username],2) # Euclidean\n",
    "              distances.append((distance,user))\n",
    "    distances.sort()\n",
    "    return distances     "
   ]
  },
  {
   "cell_type": "code",
   "execution_count": 89,
   "metadata": {
    "collapsed": false
   },
   "outputs": [
    {
     "data": {
      "text/plain": [
       "(1.4142135623730951, 'Veronica')"
      ]
     },
     "execution_count": 89,
     "metadata": {},
     "output_type": "execute_result"
    }
   ],
   "source": [
    "computeNearestNeighbor(\"Hailey\", users)[0]"
   ]
  },
  {
   "cell_type": "code",
   "execution_count": 111,
   "metadata": {
    "collapsed": false
   },
   "outputs": [],
   "source": [
    "def recommend(username, users):\n",
    "    nearest = computeNearestNeighbor(username, users)[0][1]\n",
    "    recommendations = []\n",
    "    neighborRatings = users[nearest]\n",
    "    print(neighborRatings)\n",
    "    userRatings = users[username]\n",
    "    for artist in neighborRatings:\n",
    "        if not artist in userRatings:\n",
    "            recommendations.append((artist, neighborRatings[artist]))\n",
    "    return sorted(recommendations,key=lambda artistTuple: artistTuple[1],reverse = True)\n",
    "    "
   ]
  },
  {
   "cell_type": "code",
   "execution_count": 112,
   "metadata": {
    "collapsed": false
   },
   "outputs": [
    {
     "name": "stdout",
     "output_type": "stream",
     "text": [
      "{'Phoenix': 4.0, 'The Strokes': 3.0, 'Norah Jones': 5.0, 'Slightly Stoopid': 2.5, 'Blues Traveler': 3.0}\n"
     ]
    },
    {
     "data": {
      "text/plain": [
       "[('Phoenix', 4.0), ('Blues Traveler', 3.0), ('Slightly Stoopid', 2.5)]"
      ]
     },
     "execution_count": 112,
     "metadata": {},
     "output_type": "execute_result"
    }
   ],
   "source": [
    "recommend('Hailey', users)"
   ]
  },
  {
   "cell_type": "code",
   "execution_count": 155,
   "metadata": {
    "collapsed": false
   },
   "outputs": [
    {
     "data": {
      "text/plain": [
       "[('The Strokes', 2.5), ('Vampire Weekend', 2.0)]"
      ]
     },
     "execution_count": 155,
     "metadata": {},
     "output_type": "execute_result"
    }
   ],
   "source": [
    "recommend('Chan',users)"
   ]
  },
  {
   "cell_type": "code",
   "execution_count": 156,
   "metadata": {
    "collapsed": false
   },
   "outputs": [
    {
     "data": {
      "text/plain": [
       "[('Deadmau5', 1.0), ('Vampire Weekend', 1.0)]"
      ]
     },
     "execution_count": 156,
     "metadata": {},
     "output_type": "execute_result"
    }
   ],
   "source": [
    "recommend('Sam',users)"
   ]
  },
  {
   "cell_type": "code",
   "execution_count": 13,
   "metadata": {
    "collapsed": false
   },
   "outputs": [],
   "source": [
    "def minkowski(rating1, rating2, r):\n",
    "    distance = 0\n",
    "    cr = False\n",
    "    for key in rating1:\n",
    "        if key in rating2:\n",
    "            distance += pow(abs(rating1[key]-rating2[key]),r)\n",
    "            cr = True\n",
    "    return pow(distance,1/r) if cr else 0 "
   ]
  },
  {
   "cell_type": "code",
   "execution_count": 17,
   "metadata": {
    "collapsed": false
   },
   "outputs": [],
   "source": [
    "import math\n",
    "def pearson(rating1, rating2):\n",
    "    sum_xy = 0\n",
    "    sum_x = 0\n",
    "    sum_y = 0\n",
    "    sum_xx = 0\n",
    "    sum_yy = 0\n",
    "    n = 0\n",
    "    for key in rating1:\n",
    "        if key in rating2:\n",
    "            n += 1\n",
    "            x = rating1[key] \n",
    "            y = rating2[key]\n",
    "            sum_xy += x * y\n",
    "            sum_x += x\n",
    "            sum_y += y\n",
    "            sum_xx += x**2\n",
    "            sum_yy += y**2\n",
    "            denominator = math.sqrt(sum_xx - (sum_x**2) / n) * math.sqrt(sum_yy -(sum_y**2) / n)\n",
    "    return 0 if denominator == 0 else (sum_xy - (sum_x * sum_y) / n) / denominator"
   ]
  },
  {
   "cell_type": "code",
   "execution_count": 18,
   "metadata": {
    "collapsed": false
   },
   "outputs": [
    {
     "data": {
      "text/plain": [
       "0.42008402520840293"
      ]
     },
     "execution_count": 18,
     "metadata": {},
     "output_type": "execute_result"
    }
   ],
   "source": [
    "pearson(users['Angelica'], users['Hailey'])"
   ]
  },
  {
   "cell_type": "code",
   "execution_count": 19,
   "metadata": {
    "collapsed": false
   },
   "outputs": [
    {
     "data": {
      "text/plain": [
       "-0.9040534990682699"
      ]
     },
     "execution_count": 19,
     "metadata": {},
     "output_type": "execute_result"
    }
   ],
   "source": [
    "pearson(users['Angelica'], users['Bill'])"
   ]
  },
  {
   "cell_type": "code",
   "execution_count": 32,
   "metadata": {
    "collapsed": true
   },
   "outputs": [],
   "source": [
    "import pandas as pd"
   ]
  },
  {
   "cell_type": "code",
   "execution_count": 33,
   "metadata": {
    "collapsed": false
   },
   "outputs": [],
   "source": [
    "movie_ratings = pd.read_csv('Movie_Ratings.csv')\n",
    "new_ratings = movie_ratings.set_index(\"Unnamed: 0\")"
   ]
  },
  {
   "cell_type": "code",
   "execution_count": 34,
   "metadata": {
    "collapsed": false
   },
   "outputs": [],
   "source": [
    "import math\n",
    "new_ratings = new_ratings.to_dict()"
   ]
  },
  {
   "cell_type": "code",
   "execution_count": 35,
   "metadata": {
    "collapsed": false
   },
   "outputs": [],
   "source": [
    "data = {}\n",
    "for k0,y0 in new_ratings.items():\n",
    "    data[k0] = {}\n",
    "    for k1,y1 in y0.items():\n",
    "         if not math.isnan(y1):\n",
    "            data[k0][k1] = y1"
   ]
  },
  {
   "cell_type": "code",
   "execution_count": 67,
   "metadata": {
    "collapsed": false
   },
   "outputs": [
    {
     "data": {
      "text/plain": [
       "[('Alien', 3.0)]"
      ]
     },
     "execution_count": 67,
     "metadata": {},
     "output_type": "execute_result"
    }
   ],
   "source": [
    "recommend('Heather',data)"
   ]
  },
  {
   "cell_type": "code",
   "execution_count": 60,
   "metadata": {
    "collapsed": false
   },
   "outputs": [
    {
     "data": {
      "text/plain": [
       "[(3.3166247903553998, 'Josh'),\n",
       " (3.4641016151377544, 'Jeff'),\n",
       " (3.4641016151377544, 'Matt'),\n",
       " (3.6055512754639891, 'Jonathan'),\n",
       " (3.872983346207417, 'Jessica'),\n",
       " (4.0, 'greg'),\n",
       " (4.1231056256176606, 'Amy'),\n",
       " (4.1231056256176606, 'Katherine'),\n",
       " (4.1231056256176606, 'Patrick C'),\n",
       " (4.1231056256176606, 'Zak'),\n",
       " (4.2426406871192848, 'Bryan'),\n",
       " (4.2426406871192848, 'Erin'),\n",
       " (4.358898943540674, 'aaron'),\n",
       " (4.5825756949558398, 'brian'),\n",
       " (4.5825756949558398, 'vanessa'),\n",
       " (4.8989794855663558, 'Zwe'),\n",
       " (5.196152422706632, 'Patrick T'),\n",
       " (5.4772255750516612, 'Chris.1'),\n",
       " (5.5677643628300215, 'Gary'),\n",
       " (5.5677643628300215, 'ben'),\n",
       " (5.7445626465380286, 'Thomas'),\n",
       " (5.7445626465380286, 'Valerie'),\n",
       " (6.0, 'Stephen'),\n",
       " (7.4833147735478827, 'Chris')]"
      ]
     },
     "execution_count": 60,
     "metadata": {},
     "output_type": "execute_result"
    }
   ],
   "source": [
    "computeNearestNeighbor('Heather',data)"
   ]
  },
  {
   "cell_type": "code",
   "execution_count": 29,
   "metadata": {
    "collapsed": false
   },
   "outputs": [
    {
     "data": {
      "text/plain": [
       "{'Alien': 3.0,\n",
       " 'Avatar': 4.0,\n",
       " 'Forest Gump': 4.0,\n",
       " 'Gladiator': 4.0,\n",
       " 'Jaws': 5.0,\n",
       " 'Spiderman': 4.0,\n",
       " 'Star Wars': 5.0,\n",
       " 'The Dark Knight': 4.0,\n",
       " 'The Matrix': 5.0,\n",
       " 'Toy Story': 4.0,\n",
       " 'Village': 4.0}"
      ]
     },
     "execution_count": 29,
     "metadata": {},
     "output_type": "execute_result"
    }
   ],
   "source": [
    "data[\"Josh\"]"
   ]
  },
  {
   "cell_type": "code",
   "execution_count": 186,
   "metadata": {
    "collapsed": false
   },
   "outputs": [
    {
     "data": {
      "text/plain": [
       "{'Avatar': 5.0,\n",
       " 'Dodgeball': 4.0,\n",
       " 'Forest Gump': 5.0,\n",
       " 'Gladiator': 5.0,\n",
       " 'Jaws': 5.0,\n",
       " 'Lord of the Rings': 4.0,\n",
       " 'Napolean Dynamite': 4.0,\n",
       " 'Scarface': 4.0,\n",
       " 'Snakes on a Plane': 1.0,\n",
       " 'Spiderman': 3.0,\n",
       " 'Star Wars': 5.0,\n",
       " 'The Dark Knight': 5.0,\n",
       " 'The Matrix': 4.0,\n",
       " 'Toy Story': 3.0,\n",
       " 'Village': 2.0}"
      ]
     },
     "execution_count": 186,
     "metadata": {},
     "output_type": "execute_result"
    }
   ],
   "source": [
    "data[\"Heather\"]"
   ]
  },
  {
   "cell_type": "code",
   "execution_count": 188,
   "metadata": {
    "collapsed": false
   },
   "outputs": [
    {
     "data": {
      "text/plain": [
       "3.3166247903553998"
      ]
     },
     "execution_count": 188,
     "metadata": {},
     "output_type": "execute_result"
    }
   ],
   "source": [
    "minkowski(data[\"Heather\"],data[\"Josh\"],2)"
   ]
  },
  {
   "cell_type": "code",
   "execution_count": 189,
   "metadata": {
    "collapsed": false
   },
   "outputs": [
    {
     "data": {
      "text/plain": [
       "9.0"
      ]
     },
     "execution_count": 189,
     "metadata": {},
     "output_type": "execute_result"
    }
   ],
   "source": [
    "minkowski(data[\"Heather\"],data[\"Josh\"],1)"
   ]
  },
  {
   "cell_type": "code",
   "execution_count": 159,
   "metadata": {
    "collapsed": false
   },
   "outputs": [],
   "source": [
    "def recommend_nusers_byrating(username,users,k,rating):\n",
    "    nearest = computeNearestNeighbor(username, users)[:k]\n",
    "    print(nearest)\n",
    "    neighborRatings = {}\n",
    "    for nb in nearest:\n",
    "        for key in users[nb[1]].keys():\n",
    "                keyValue=users[nb[1]][key] \n",
    "                if keyValue >= rating:\n",
    "                    neighborRatings[key] = keyValue\n",
    "    recommendations = []\n",
    "    userRatings = users[username]\n",
    "    for artist in neighborRatings:\n",
    "        if not artist in userRatings:\n",
    "            recommendations.append((artist, neighborRatings[artist]))\n",
    "    return sorted(recommendations,key=lambda artistTuple: artistTuple[1],reverse = True)"
   ]
  },
  {
   "cell_type": "code",
   "execution_count": 160,
   "metadata": {
    "collapsed": false
   },
   "outputs": [
    {
     "name": "stdout",
     "output_type": "stream",
     "text": [
      "[(3.3166247903553998, 'Josh')]\n"
     ]
    },
    {
     "data": {
      "text/plain": [
       "[('Alien', 3.0)]"
      ]
     },
     "execution_count": 160,
     "metadata": {},
     "output_type": "execute_result"
    }
   ],
   "source": [
    "recommend_nusers_byrating('Heather',data,1,1)"
   ]
  },
  {
   "cell_type": "code",
   "execution_count": 164,
   "metadata": {
    "collapsed": false
   },
   "outputs": [
    {
     "name": "stdout",
     "output_type": "stream",
     "text": [
      "[(3.3166247903553998, 'Josh')]\n"
     ]
    },
    {
     "data": {
      "text/plain": [
       "[('Alien', 3.0)]"
      ]
     },
     "execution_count": 164,
     "metadata": {},
     "output_type": "execute_result"
    }
   ],
   "source": [
    "recommend_nusers_byrating('Heather',data,1,2)"
   ]
  },
  {
   "cell_type": "code",
   "execution_count": 152,
   "metadata": {
    "collapsed": false
   },
   "outputs": [
    {
     "data": {
      "text/plain": [
       "{'Alien': 3.0,\n",
       " 'Avatar': 4.0,\n",
       " 'Forest Gump': 4.0,\n",
       " 'Gladiator': 4.0,\n",
       " 'Jaws': 5.0,\n",
       " 'Spiderman': 4.0,\n",
       " 'Star Wars': 5.0,\n",
       " 'The Dark Knight': 4.0,\n",
       " 'The Matrix': 5.0,\n",
       " 'Toy Story': 4.0,\n",
       " 'Village': 4.0}"
      ]
     },
     "execution_count": 152,
     "metadata": {},
     "output_type": "execute_result"
    }
   ],
   "source": [
    "data[\"Josh\"]"
   ]
  },
  {
   "cell_type": "code",
   "execution_count": 158,
   "metadata": {
    "collapsed": false
   },
   "outputs": [
    {
     "data": {
      "text/plain": [
       "{'Alien': 4.0,\n",
       " 'Avatar': 4.0,\n",
       " 'Blade Runner': 5.0,\n",
       " 'Braveheart': 4.0,\n",
       " 'Dodgeball': 3.0,\n",
       " 'Forest Gump': 4.0,\n",
       " 'Gladiator': 4.0,\n",
       " 'Jaws': 5.0,\n",
       " 'Kazaam': 1.0,\n",
       " 'Lord of the Rings': 3.0,\n",
       " 'Napolean Dynamite': 3.0,\n",
       " 'Old School': 3.0,\n",
       " 'Pootie Tang': 5.0,\n",
       " 'Pulp Fiction': 3.0,\n",
       " 'Snakes on a Plane': 1.0,\n",
       " 'Spiderman': 4.0,\n",
       " 'Star Wars': 5.0,\n",
       " 'The Dark Knight': 5.0,\n",
       " 'The Matrix': 5.0,\n",
       " 'Toy Story': 5.0,\n",
       " 'Village': 2.0,\n",
       " 'You Got Mail': 2.0}"
      ]
     },
     "execution_count": 158,
     "metadata": {},
     "output_type": "execute_result"
    }
   ],
   "source": [
    "data[\"Jeff\"]"
   ]
  },
  {
   "cell_type": "code",
   "execution_count": null,
   "metadata": {
    "collapsed": true
   },
   "outputs": [],
   "source": []
  }
 ],
 "metadata": {
  "kernelspec": {
   "display_name": "Python 3",
   "language": "python",
   "name": "python3"
  },
  "language_info": {
   "codemirror_mode": {
    "name": "ipython",
    "version": 3
   },
   "file_extension": ".py",
   "mimetype": "text/x-python",
   "name": "python",
   "nbconvert_exporter": "python",
   "pygments_lexer": "ipython3",
   "version": "3.3.5"
  }
 },
 "nbformat": 4,
 "nbformat_minor": 0
}
