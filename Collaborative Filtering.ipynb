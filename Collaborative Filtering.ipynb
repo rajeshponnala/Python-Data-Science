{
 "cells": [
  {
   "cell_type": "code",
   "execution_count": 96,
   "metadata": {
    "collapsed": true
   },
   "outputs": [],
   "source": [
    "users = {\"Angelica\": {\"Blues Traveler\": 3.5, \"Broken Bells\": 2.0,\n",
    "\"Norah Jones\": 4.5, \"Phoenix\": 5.0,\n",
    "\"Slightly Stoopid\": 1.5,\n",
    "\"The Strokes\": 2.5, \"Vampire Weekend\": 2.0},\n",
    "\"Bill\": {\"Blues Traveler\": 2.0, \"Broken Bells\": 3.5,\n",
    "\"Deadmau5\": 4.0, \"Phoenix\": 2.0,\n",
    "\"Slightly Stoopid\": 3.5, \"Vampire Weekend\": 3.0},\n",
    "\"Chan\": {\"Blues Traveler\": 5.0, \"Broken Bells\": 1.0,\n",
    "\"Deadmau5\": 1.0, \"Norah Jones\": 3.0,\n",
    "\"Phoenix\": 5, \"Slightly Stoopid\": 1.0},\n",
    "\"Dan\": {\"Blues Traveler\": 3.0, \"Broken Bells\": 4.0,\n",
    "\"Deadmau5\": 4.5, \"Phoenix\": 3.0,\n",
    "\"Slightly Stoopid\": 4.5, \"The Strokes\": 4.0,\n",
    "\"Vampire Weekend\": 2.0},\n",
    "\"Hailey\": {\"Broken Bells\": 4.0, \"Deadmau5\": 1.0,\n",
    "\"Norah Jones\": 4.0, \"The Strokes\": 4.0,\n",
    "\"Vampire Weekend\": 1.0},\n",
    "\"Jordyn\": {\"Broken Bells\": 4.5, \"Deadmau5\": 4.0, \"Norah Jones\": 5.0,\n",
    "\"Phoenix\": 5.0, \"Slightly Stoopid\": 4.5,\n",
    "\"The Strokes\": 4.0, \"Vampire Weekend\": 4.0},\n",
    "\"Sam\": {\"Blues Traveler\": 5.0, \"Broken Bells\": 2.0,\n",
    "\"Norah Jones\": 3.0, \"Phoenix\": 5.0,\n",
    "\"Slightly Stoopid\": 4.0, \"The Strokes\": 5.0},\n",
    "\"Veronica\": {\"Blues Traveler\": 3.0, \"Norah Jones\": 5.0,\n",
    "\"Phoenix\": 4.0, \"Slightly Stoopid\": 2.5,\n",
    "\"The Strokes\": 3.0}}"
   ]
  },
  {
   "cell_type": "code",
   "execution_count": 97,
   "metadata": {
    "collapsed": false
   },
   "outputs": [
    {
     "data": {
      "text/plain": [
       "{'Blues Traveler': 3.0,\n",
       " 'Norah Jones': 5.0,\n",
       " 'Phoenix': 4.0,\n",
       " 'Slightly Stoopid': 2.5,\n",
       " 'The Strokes': 3.0}"
      ]
     },
     "execution_count": 97,
     "metadata": {},
     "output_type": "execute_result"
    }
   ],
   "source": [
    "users[\"Veronica\"]"
   ]
  },
  {
   "cell_type": "code",
   "execution_count": 98,
   "metadata": {
    "collapsed": true
   },
   "outputs": [],
   "source": [
    "def manhattan(rating1,rating2):\n",
    "    distance = 0\n",
    "    for key in rating1:\n",
    "        if key in rating2:\n",
    "            distance += abs(rating1[key]-rating2[key])\n",
    "    return distance\n",
    "            "
   ]
  },
  {
   "cell_type": "code",
   "execution_count": 99,
   "metadata": {
    "collapsed": false
   },
   "outputs": [
    {
     "data": {
      "text/plain": [
       "2.0"
      ]
     },
     "execution_count": 99,
     "metadata": {},
     "output_type": "execute_result"
    }
   ],
   "source": [
    "manhattan(users['Hailey'], users['Veronica'])"
   ]
  },
  {
   "cell_type": "code",
   "execution_count": 100,
   "metadata": {
    "collapsed": false
   },
   "outputs": [
    {
     "data": {
      "text/plain": [
       "7.5"
      ]
     },
     "execution_count": 100,
     "metadata": {},
     "output_type": "execute_result"
    }
   ],
   "source": [
    "manhattan(users['Hailey'], users['Jordyn'])"
   ]
  },
  {
   "cell_type": "code",
   "execution_count": 151,
   "metadata": {
    "collapsed": false
   },
   "outputs": [],
   "source": [
    "def computeNearestNeighbor(username,users):\n",
    "    distances = []\n",
    "    for user in users:\n",
    "        if user != username:\n",
    "           # distance = manhattan(users[user],users[username])\n",
    "             # distance = minkowski(users[user],users[username],1) #manhattan \n",
    "              distance = minkowski(users[user],users[username],2) # Euclidean\n",
    "              distances.append((distance,user))\n",
    "    distances.sort()\n",
    "    return distances     "
   ]
  },
  {
   "cell_type": "code",
   "execution_count": 152,
   "metadata": {
    "collapsed": false
   },
   "outputs": [
    {
     "data": {
      "text/plain": [
       "{'Blues Traveler': 3.0,\n",
       " 'Norah Jones': 5.0,\n",
       " 'Phoenix': 4.0,\n",
       " 'Slightly Stoopid': 2.5,\n",
       " 'The Strokes': 3.0}"
      ]
     },
     "execution_count": 152,
     "metadata": {},
     "output_type": "execute_result"
    }
   ],
   "source": [
    "computeNearestNeighbor(\"Hailey\", users)[0][1]\n",
    "users[\"Veronica\"]"
   ]
  },
  {
   "cell_type": "code",
   "execution_count": 153,
   "metadata": {
    "collapsed": false
   },
   "outputs": [],
   "source": [
    "def recommend(username, users):\n",
    "    nearest = computeNearestNeighbor(username, users)[0][1]\n",
    "    recommendations = []\n",
    "    neighborRatings = users[nearest]\n",
    "    userRatings = users[username]\n",
    "    for artist in neighborRatings:\n",
    "        if not artist in userRatings:\n",
    "            recommendations.append((artist, neighborRatings[artist]))\n",
    "    return sorted(recommendations,key=lambda artistTuple: artistTuple[1],reverse = True)\n",
    "    "
   ]
  },
  {
   "cell_type": "code",
   "execution_count": 154,
   "metadata": {
    "collapsed": false
   },
   "outputs": [
    {
     "data": {
      "text/plain": [
       "[('Phoenix', 4.0), ('Blues Traveler', 3.0), ('Slightly Stoopid', 2.5)]"
      ]
     },
     "execution_count": 154,
     "metadata": {},
     "output_type": "execute_result"
    }
   ],
   "source": [
    "recommend('Hailey', users)"
   ]
  },
  {
   "cell_type": "code",
   "execution_count": 155,
   "metadata": {
    "collapsed": false
   },
   "outputs": [
    {
     "data": {
      "text/plain": [
       "[('The Strokes', 2.5), ('Vampire Weekend', 2.0)]"
      ]
     },
     "execution_count": 155,
     "metadata": {},
     "output_type": "execute_result"
    }
   ],
   "source": [
    "recommend('Chan',users)"
   ]
  },
  {
   "cell_type": "code",
   "execution_count": 156,
   "metadata": {
    "collapsed": false
   },
   "outputs": [
    {
     "data": {
      "text/plain": [
       "[('Deadmau5', 1.0), ('Vampire Weekend', 1.0)]"
      ]
     },
     "execution_count": 156,
     "metadata": {},
     "output_type": "execute_result"
    }
   ],
   "source": [
    "recommend('Sam',users)"
   ]
  },
  {
   "cell_type": "code",
   "execution_count": 177,
   "metadata": {
    "collapsed": false
   },
   "outputs": [],
   "source": [
    "def minkowski(rating1, rating2, r):\n",
    "    distance = 0\n",
    "    cr = False\n",
    "    for key in rating1:\n",
    "        if key in rating2:\n",
    "            distance += pow(abs(rating1[key]-rating2[key]),r)\n",
    "            cr = True\n",
    "    return pow(distance,1/r) if cr else 0 "
   ]
  },
  {
   "cell_type": "code",
   "execution_count": 178,
   "metadata": {
    "collapsed": false
   },
   "outputs": [],
   "source": [
    "def pearson(rating1, rating2):\n",
    "    sum_xy = 0\n",
    "    sum_x = 0\n",
    "    sum_y = 0\n",
    "    sum_xx = 0\n",
    "    sum_yy = 0\n",
    "    n = 0\n",
    "    for key in rating1:\n",
    "        if key in rating2:\n",
    "            n += 1\n",
    "            x = rating1[key] \n",
    "            y = rating2[key]\n",
    "            sum_xy += x * y\n",
    "            sum_x += x\n",
    "            sum_y += y\n",
    "            sum_xx += x**2\n",
    "            sum_yy += y**2\n",
    "            denominator = math.sqrt(sum_xx - (sum_x**2) / n) * math.sqrt(sum_yy -(sum_y**2) / n)\n",
    "    return 0 if denominator == 0 else (sum_xy - (sum_x * sum_y) / n) / denominator"
   ]
  },
  {
   "cell_type": "code",
   "execution_count": 179,
   "metadata": {
    "collapsed": false
   },
   "outputs": [
    {
     "data": {
      "text/plain": [
       "0.42008402520840293"
      ]
     },
     "execution_count": 179,
     "metadata": {},
     "output_type": "execute_result"
    }
   ],
   "source": [
    "pearson(users['Angelica'], users['Hailey'])"
   ]
  },
  {
   "cell_type": "code",
   "execution_count": 180,
   "metadata": {
    "collapsed": false
   },
   "outputs": [
    {
     "data": {
      "text/plain": [
       "-0.9040534990682699"
      ]
     },
     "execution_count": 180,
     "metadata": {},
     "output_type": "execute_result"
    }
   ],
   "source": [
    "pearson(users['Angelica'], users['Bill'])"
   ]
  },
  {
   "cell_type": "code",
   "execution_count": 181,
   "metadata": {
    "collapsed": true
   },
   "outputs": [],
   "source": [
    "import pandas as pd"
   ]
  },
  {
   "cell_type": "code",
   "execution_count": 182,
   "metadata": {
    "collapsed": false
   },
   "outputs": [],
   "source": [
    "movie_ratings = pd.read_csv('Movie_Ratings.csv')\n",
    "new_ratings = movie_ratings.set_index(\"Unnamed: 0\")"
   ]
  },
  {
   "cell_type": "code",
   "execution_count": 183,
   "metadata": {
    "collapsed": false
   },
   "outputs": [],
   "source": [
    "import math\n",
    "new_ratings = new_ratings.to_dict()"
   ]
  },
  {
   "cell_type": "code",
   "execution_count": 184,
   "metadata": {
    "collapsed": false
   },
   "outputs": [
    {
     "data": {
      "text/plain": [
       "{'Amy': {'Avatar': 3.0,\n",
       "  'Blade Runner': 3.0,\n",
       "  'Braveheart': 3.0,\n",
       "  'Dodgeball': 4.0,\n",
       "  'Forest Gump': 4.0,\n",
       "  'Jaws': 3.0,\n",
       "  'Kazaam': 1.0,\n",
       "  'Napolean Dynamite': 2.0,\n",
       "  'Old School': 3.0,\n",
       "  'Pulp Fiction': 4.0,\n",
       "  'Shawshank Redemption': 2.0,\n",
       "  'Snakes on a Plane': 2.0,\n",
       "  'Spiderman': 3.0,\n",
       "  'The Dark Knight': 4.0,\n",
       "  'The Matrix': 5.0,\n",
       "  'Toy Story': 4.0,\n",
       "  'You Got Mail': 2.0},\n",
       " 'Bryan': {'Alien': 2.0,\n",
       "  'Avatar': 5.0,\n",
       "  'Braveheart': 5.0,\n",
       "  'Dodgeball': 3.0,\n",
       "  'Forest Gump': 4.0,\n",
       "  'Gladiator': 5.0,\n",
       "  'Jaws': 4.0,\n",
       "  'Kazaam': 3.0,\n",
       "  'Lord of the Rings': 3.0,\n",
       "  'Napolean Dynamite': 1.0,\n",
       "  'Old School': 4.0,\n",
       "  'Pootie Tang': 1.0,\n",
       "  'Pulp Fiction': 4.0,\n",
       "  'Shawshank Redemption': 5.0,\n",
       "  'Snakes on a Plane': 2.0,\n",
       "  'Spiderman': 4.0,\n",
       "  'Star Wars': 4.0,\n",
       "  'The Dark Knight': 5.0,\n",
       "  'The Matrix': 3.0,\n",
       "  'Toy Story': 3.0,\n",
       "  'Village': 3.0,\n",
       "  'You Got Mail': 1.0},\n",
       " 'Chris': {'Alien': 2.0,\n",
       "  'Avatar': 1.0,\n",
       "  'Blade Runner': 5.0,\n",
       "  'Braveheart': 2.0,\n",
       "  'Dodgeball': 3.0,\n",
       "  'Forest Gump': 3.0,\n",
       "  'Gladiator': 3.0,\n",
       "  'Jaws': 2.0,\n",
       "  'Kazaam': 1.0,\n",
       "  'Lord of the Rings': 3.0,\n",
       "  'Napolean Dynamite': 1.0,\n",
       "  'Old School': 5.0,\n",
       "  'Pootie Tang': 3.0,\n",
       "  'Pulp Fiction': 5.0,\n",
       "  'Scarface': 3.0,\n",
       "  'Shawshank Redemption': 4.0,\n",
       "  'Snakes on a Plane': 3.0,\n",
       "  'Spiderman': 2.0,\n",
       "  'Star Wars': 4.0,\n",
       "  'The Dark Knight': 3.0,\n",
       "  'The Happening': 1.0,\n",
       "  'The Matrix': 4.0,\n",
       "  'Toy Story': 3.0,\n",
       "  'Village': 3.0},\n",
       " 'Chris.1': {'Alien': 4.0,\n",
       "  'Blade Runner': 3.0,\n",
       "  'Braveheart': 4.0,\n",
       "  'Dodgeball': 3.0,\n",
       "  'Forest Gump': 5.0,\n",
       "  'Gladiator': 3.0,\n",
       "  'Jaws': 5.0,\n",
       "  'Lord of the Rings': 4.0,\n",
       "  'Napolean Dynamite': 1.0,\n",
       "  'Old School': 4.0,\n",
       "  'Pootie Tang': 1.0,\n",
       "  'Pulp Fiction': 5.0,\n",
       "  'Scarface': 2.0,\n",
       "  'Shawshank Redemption': 4.0,\n",
       "  'Snakes on a Plane': 3.0,\n",
       "  'Spiderman': 2.0,\n",
       "  'Star Wars': 5.0,\n",
       "  'The Dark Knight': 4.0,\n",
       "  'The Matrix': 2.0,\n",
       "  'Toy Story': 4.0,\n",
       "  'Village': 1.0,\n",
       "  'You Got Mail': 1.0},\n",
       " 'Erin': {'Avatar': 4.0,\n",
       "  'Braveheart': 4.0,\n",
       "  'Dodgeball': 3.0,\n",
       "  'Forest Gump': 5.0,\n",
       "  'Jaws': 3.0,\n",
       "  'Kazaam': 1.0,\n",
       "  'Lord of the Rings': 4.0,\n",
       "  'Napolean Dynamite': 2.0,\n",
       "  'Spiderman': 3.0,\n",
       "  'Star Wars': 3.0,\n",
       "  'The Matrix': 4.0,\n",
       "  'Toy Story': 5.0},\n",
       " 'Gary': {'Alien': 2.0,\n",
       "  'Avatar': 1.0,\n",
       "  'Blade Runner': 1.0,\n",
       "  'Braveheart': 5.0,\n",
       "  'Dodgeball': 4.0,\n",
       "  'Forest Gump': 4.0,\n",
       "  'Gladiator': 3.0,\n",
       "  'Jaws': 4.0,\n",
       "  'Kazaam': 1.0,\n",
       "  'Lord of the Rings': 3.0,\n",
       "  'Napolean Dynamite': 4.0,\n",
       "  'Old School': 5.0,\n",
       "  'Pulp Fiction': 3.0,\n",
       "  'Scarface': 3.0,\n",
       "  'Shawshank Redemption': 5.0,\n",
       "  'Snakes on a Plane': 2.0,\n",
       "  'Spiderman': 2.0,\n",
       "  'Star Wars': 5.0,\n",
       "  'The Matrix': 2.0,\n",
       "  'Toy Story': 4.0,\n",
       "  'You Got Mail': 1.0},\n",
       " 'Heather': {'Avatar': 5.0,\n",
       "  'Dodgeball': 4.0,\n",
       "  'Forest Gump': 5.0,\n",
       "  'Gladiator': 5.0,\n",
       "  'Jaws': 5.0,\n",
       "  'Lord of the Rings': 4.0,\n",
       "  'Napolean Dynamite': 4.0,\n",
       "  'Scarface': 4.0,\n",
       "  'Snakes on a Plane': 1.0,\n",
       "  'Spiderman': 3.0,\n",
       "  'Star Wars': 5.0,\n",
       "  'The Dark Knight': 5.0,\n",
       "  'The Matrix': 4.0,\n",
       "  'Toy Story': 3.0,\n",
       "  'Village': 2.0},\n",
       " 'Jeff': {'Alien': 4.0,\n",
       "  'Avatar': 4.0,\n",
       "  'Blade Runner': 5.0,\n",
       "  'Braveheart': 4.0,\n",
       "  'Dodgeball': 3.0,\n",
       "  'Forest Gump': 4.0,\n",
       "  'Gladiator': 4.0,\n",
       "  'Jaws': 5.0,\n",
       "  'Kazaam': 1.0,\n",
       "  'Lord of the Rings': 3.0,\n",
       "  'Napolean Dynamite': 3.0,\n",
       "  'Old School': 3.0,\n",
       "  'Pootie Tang': 5.0,\n",
       "  'Pulp Fiction': 3.0,\n",
       "  'Snakes on a Plane': 1.0,\n",
       "  'Spiderman': 4.0,\n",
       "  'Star Wars': 5.0,\n",
       "  'The Dark Knight': 5.0,\n",
       "  'The Matrix': 5.0,\n",
       "  'Toy Story': 5.0,\n",
       "  'Village': 2.0,\n",
       "  'You Got Mail': 2.0},\n",
       " 'Jessica': {'Forest Gump': 4.0,\n",
       "  'Jaws': 3.0,\n",
       "  'Kazaam': 1.0,\n",
       "  'Lord of the Rings': 3.0,\n",
       "  'Napolean Dynamite': 2.0,\n",
       "  'Old School': 2.0,\n",
       "  'Pulp Fiction': 4.0,\n",
       "  'Snakes on a Plane': 2.0,\n",
       "  'Spiderman': 3.0,\n",
       "  'Star Wars': 5.0,\n",
       "  'The Dark Knight': 5.0,\n",
       "  'Toy Story': 5.0},\n",
       " 'Jonathan': {'Avatar': 4.0,\n",
       "  'Braveheart': 4.0,\n",
       "  'Dodgeball': 5.0,\n",
       "  'Forest Gump': 5.0,\n",
       "  'Gladiator': 4.0,\n",
       "  'Jaws': 3.0,\n",
       "  'Kazaam': 2.0,\n",
       "  'Lord of the Rings': 4.0,\n",
       "  'Napolean Dynamite': 3.0,\n",
       "  'Old School': 5.0,\n",
       "  'Pulp Fiction': 5.0,\n",
       "  'Scarface': 4.0,\n",
       "  'Spiderman': 3.0,\n",
       "  'Star Wars': 5.0,\n",
       "  'The Dark Knight': 5.0,\n",
       "  'The Matrix': 5.0,\n",
       "  'Toy Story': 5.0,\n",
       "  'You Got Mail': 2.0},\n",
       " 'Josh': {'Alien': 3.0,\n",
       "  'Avatar': 4.0,\n",
       "  'Forest Gump': 4.0,\n",
       "  'Gladiator': 4.0,\n",
       "  'Jaws': 5.0,\n",
       "  'Spiderman': 4.0,\n",
       "  'Star Wars': 5.0,\n",
       "  'The Dark Knight': 4.0,\n",
       "  'The Matrix': 5.0,\n",
       "  'Toy Story': 4.0,\n",
       "  'Village': 4.0},\n",
       " 'Katherine': {'Avatar': 5.0,\n",
       "  'Braveheart': 3.0,\n",
       "  'Dodgeball': 5.0,\n",
       "  'Forest Gump': 5.0,\n",
       "  'Gladiator': 3.0,\n",
       "  'Kazaam': 2.0,\n",
       "  'Lord of the Rings': 4.0,\n",
       "  'Napolean Dynamite': 2.0,\n",
       "  'Spiderman': 5.0,\n",
       "  'Star Wars': 5.0,\n",
       "  'The Matrix': 4.0,\n",
       "  'Toy Story': 5.0},\n",
       " 'Matt': {'Forest Gump': 4.0,\n",
       "  'Lord of the Rings': 1.0,\n",
       "  'Napolean Dynamite': 3.0,\n",
       "  'Snakes on a Plane': 1.0,\n",
       "  'Spiderman': 3.0,\n",
       "  'Toy Story': 4.0},\n",
       " 'Patrick C': {'Avatar': 4.0,\n",
       "  'Blade Runner': 5.0,\n",
       "  'Braveheart': 4.0,\n",
       "  'Dodgeball': 5.0,\n",
       "  'Forest Gump': 4.0,\n",
       "  'Kazaam': 2.0,\n",
       "  'Lord of the Rings': 4.0,\n",
       "  'Napolean Dynamite': 3.0,\n",
       "  'Old School': 3.0,\n",
       "  'Shawshank Redemption': 5.0,\n",
       "  'Snakes on a Plane': 4.0,\n",
       "  'Spiderman': 4.0,\n",
       "  'Star Wars': 5.0,\n",
       "  'The Dark Knight': 4.0,\n",
       "  'The Happening': 1.0,\n",
       "  'The Matrix': 3.0,\n",
       "  'Toy Story': 4.0,\n",
       "  'You Got Mail': 1.0},\n",
       " 'Patrick T': {'Avatar': 4.0,\n",
       "  'Dodgeball': 2.0,\n",
       "  'Forest Gump': 3.0,\n",
       "  'Kazaam': 5.0,\n",
       "  'Lord of the Rings': 2.0,\n",
       "  'Napolean Dynamite': 1.0,\n",
       "  'Old School': 5.0,\n",
       "  'Pootie Tang': 1.0,\n",
       "  'Spiderman': 4.0,\n",
       "  'Star Wars': 5.0,\n",
       "  'The Dark Knight': 4.0,\n",
       "  'The Matrix': 5.0,\n",
       "  'Toy Story': 4.0,\n",
       "  'Village': 1.0,\n",
       "  'You Got Mail': 1.0},\n",
       " 'Stephen': {'Alien': 5.0,\n",
       "  'Avatar': 4.0,\n",
       "  'Braveheart': 5.0,\n",
       "  'Dodgeball': 3.0,\n",
       "  'Forest Gump': 1.0,\n",
       "  'Gladiator': 4.0,\n",
       "  'Jaws': 2.0,\n",
       "  'Lord of the Rings': 5.0,\n",
       "  'Napolean Dynamite': 2.0,\n",
       "  'Pulp Fiction': 3.0,\n",
       "  'Spiderman': 3.0,\n",
       "  'Star Wars': 5.0,\n",
       "  'The Dark Knight': 4.0,\n",
       "  'The Happening': 1.0,\n",
       "  'The Matrix': 5.0,\n",
       "  'Toy Story': 4.0,\n",
       "  'Village': 2.0,\n",
       "  'You Got Mail': 2.0},\n",
       " 'Thomas': {'Alien': 5.0,\n",
       "  'Avatar': 2.0,\n",
       "  'Blade Runner': 5.0,\n",
       "  'Braveheart': 4.0,\n",
       "  'Dodgeball': 4.0,\n",
       "  'Forest Gump': 3.0,\n",
       "  'Gladiator': 4.0,\n",
       "  'Jaws': 4.0,\n",
       "  'Kazaam': 2.0,\n",
       "  'Napolean Dynamite': 5.0,\n",
       "  'Old School': 5.0,\n",
       "  'Pulp Fiction': 4.0,\n",
       "  'Scarface': 5.0,\n",
       "  'Snakes on a Plane': 4.0,\n",
       "  'Spiderman': 5.0,\n",
       "  'Star Wars': 5.0,\n",
       "  'The Dark Knight': 4.0,\n",
       "  'The Happening': 1.0,\n",
       "  'The Matrix': 4.0,\n",
       "  'Toy Story': 4.0,\n",
       "  'Village': 1.0,\n",
       "  'You Got Mail': 1.0},\n",
       " 'Valerie': {'Avatar': 2.0,\n",
       "  'Blade Runner': 3.0,\n",
       "  'Braveheart': 4.0,\n",
       "  'Dodgeball': 3.0,\n",
       "  'Forest Gump': 5.0,\n",
       "  'Gladiator': 3.0,\n",
       "  'Jaws': 2.0,\n",
       "  'Kazaam': 1.0,\n",
       "  'Lord of the Rings': 5.0,\n",
       "  'Napolean Dynamite': 5.0,\n",
       "  'Old School': 3.0,\n",
       "  'Pulp Fiction': 3.0,\n",
       "  'Scarface': 4.0,\n",
       "  'Shawshank Redemption': 5.0,\n",
       "  'Snakes on a Plane': 1.0,\n",
       "  'Spiderman': 5.0,\n",
       "  'Star Wars': 5.0,\n",
       "  'The Dark Knight': 5.0,\n",
       "  'The Happening': 1.0,\n",
       "  'The Matrix': 4.0,\n",
       "  'Toy Story': 5.0,\n",
       "  'Village': 2.0,\n",
       "  'You Got Mail': 2.0},\n",
       " 'Zak': {'Avatar': 5.0,\n",
       "  'Braveheart': 5.0,\n",
       "  'Dodgeball': 3.0,\n",
       "  'Forest Gump': 5.0,\n",
       "  'Gladiator': 5.0,\n",
       "  'Kazaam': 1.0,\n",
       "  'Lord of the Rings': 4.0,\n",
       "  'Napolean Dynamite': 1.0,\n",
       "  'Old School': 5.0,\n",
       "  'Pulp Fiction': 5.0,\n",
       "  'Scarface': 3.0,\n",
       "  'Spiderman': 3.0,\n",
       "  'Star Wars': 5.0,\n",
       "  'The Dark Knight': 5.0,\n",
       "  'The Happening': 1.0,\n",
       "  'The Matrix': 5.0,\n",
       "  'Toy Story': 4.0,\n",
       "  'Village': 4.0,\n",
       "  'You Got Mail': 2.0},\n",
       " 'Zwe': {'Avatar': 4.0,\n",
       "  'Braveheart': 3.0,\n",
       "  'Dodgeball': 3.0,\n",
       "  'Forest Gump': 5.0,\n",
       "  'Gladiator': 3.0,\n",
       "  'Jaws': 2.0,\n",
       "  'Kazaam': 2.0,\n",
       "  'Lord of the Rings': 3.0,\n",
       "  'Napolean Dynamite': 3.0,\n",
       "  'Old School': 4.0,\n",
       "  'Pootie Tang': 2.0,\n",
       "  'Pulp Fiction': 4.0,\n",
       "  'Shawshank Redemption': 4.0,\n",
       "  'Snakes on a Plane': 1.0,\n",
       "  'Spiderman': 4.0,\n",
       "  'Star Wars': 4.0,\n",
       "  'The Dark Knight': 5.0,\n",
       "  'The Happening': 1.0,\n",
       "  'The Matrix': 4.0,\n",
       "  'Toy Story': 4.0,\n",
       "  'Village': 4.0,\n",
       "  'You Got Mail': 2.0},\n",
       " 'aaron': {'Alien': 4.0,\n",
       "  'Blade Runner': 4.0,\n",
       "  'Braveheart': 4.0,\n",
       "  'Gladiator': 4.0,\n",
       "  'Lord of the Rings': 5.0,\n",
       "  'Napolean Dynamite': 1.0,\n",
       "  'Pulp Fiction': 3.0,\n",
       "  'Scarface': 4.0,\n",
       "  'Shawshank Redemption': 5.0,\n",
       "  'Spiderman': 3.0,\n",
       "  'Star Wars': 3.0,\n",
       "  'The Matrix': 4.0,\n",
       "  'Toy Story': 5.0,\n",
       "  'You Got Mail': 3.0},\n",
       " 'ben': {'Avatar': 3.0,\n",
       "  'Blade Runner': 5.0,\n",
       "  'Dodgeball': 4.0,\n",
       "  'Forest Gump': 5.0,\n",
       "  'Gladiator': 5.0,\n",
       "  'Jaws': 1.0,\n",
       "  'Lord of the Rings': 2.0,\n",
       "  'Napolean Dynamite': 4.0,\n",
       "  'Old School': 4.0,\n",
       "  'Pootie Tang': 1.0,\n",
       "  'Pulp Fiction': 4.0,\n",
       "  'Scarface': 4.0,\n",
       "  'Shawshank Redemption': 5.0,\n",
       "  'Snakes on a Plane': 2.0,\n",
       "  'Spiderman': 4.0,\n",
       "  'Star Wars': 5.0,\n",
       "  'The Dark Knight': 5.0,\n",
       "  'The Matrix': 4.0,\n",
       "  'Toy Story': 5.0,\n",
       "  'Village': 3.0},\n",
       " 'brian': {'Alien': 4.0,\n",
       "  'Blade Runner': 5.0,\n",
       "  'Braveheart': 4.0,\n",
       "  'Dodgeball': 3.0,\n",
       "  'Forest Gump': 5.0,\n",
       "  'Gladiator': 5.0,\n",
       "  'Jaws': 3.0,\n",
       "  'Kazaam': 1.0,\n",
       "  'Lord of the Rings': 5.0,\n",
       "  'Napolean Dynamite': 4.0,\n",
       "  'Old School': 4.0,\n",
       "  'Pootie Tang': 1.0,\n",
       "  'Pulp Fiction': 5.0,\n",
       "  'Shawshank Redemption': 5.0,\n",
       "  'Snakes on a Plane': 3.0,\n",
       "  'Spiderman': 4.0,\n",
       "  'Star Wars': 5.0,\n",
       "  'The Dark Knight': 4.0,\n",
       "  'The Happening': 2.0,\n",
       "  'The Matrix': 5.0,\n",
       "  'Toy Story': 5.0,\n",
       "  'Village': 4.0,\n",
       "  'You Got Mail': 3.0},\n",
       " 'greg': {'Avatar': 3.0,\n",
       "  'Blade Runner': 1.0,\n",
       "  'Braveheart': 4.0,\n",
       "  'Dodgeball': 5.0,\n",
       "  'Forest Gump': 5.0,\n",
       "  'Gladiator': 5.0,\n",
       "  'Jaws': 3.0,\n",
       "  'Lord of the Rings': 3.0,\n",
       "  'Napolean Dynamite': 4.0,\n",
       "  'Old School': 5.0,\n",
       "  'Pulp Fiction': 4.0,\n",
       "  'Scarface': 4.0,\n",
       "  'Shawshank Redemption': 5.0,\n",
       "  'Spiderman': 4.0,\n",
       "  'Star Wars': 5.0,\n",
       "  'The Dark Knight': 4.0,\n",
       "  'The Matrix': 4.0,\n",
       "  'Toy Story': 5.0},\n",
       " 'vanessa': {'Avatar': 4.0,\n",
       "  'Braveheart': 3.0,\n",
       "  'Dodgeball': 4.0,\n",
       "  'Forest Gump': 4.0,\n",
       "  'Gladiator': 4.0,\n",
       "  'Jaws': 2.0,\n",
       "  'Lord of the Rings': 2.0,\n",
       "  'Napolean Dynamite': 4.0,\n",
       "  'Old School': 3.0,\n",
       "  'Pootie Tang': 1.0,\n",
       "  'Scarface': 4.0,\n",
       "  'Star Wars': 3.0,\n",
       "  'The Matrix': 4.0,\n",
       "  'Toy Story': 4.0,\n",
       "  'Village': 2.0}}"
      ]
     },
     "execution_count": 184,
     "metadata": {},
     "output_type": "execute_result"
    }
   ],
   "source": [
    "data = {}\n",
    "for k0,y0 in new_ratings.items():\n",
    "    data[k0] = {}\n",
    "    for k1,y1 in y0.items():\n",
    "         if not math.isnan(y1):\n",
    "            data[k0][k1] = y1\n",
    "data"
   ]
  },
  {
   "cell_type": "code",
   "execution_count": 187,
   "metadata": {
    "collapsed": false
   },
   "outputs": [
    {
     "data": {
      "text/plain": [
       "[('Alien', 3.0)]"
      ]
     },
     "execution_count": 187,
     "metadata": {},
     "output_type": "execute_result"
    }
   ],
   "source": [
    "recommend('Heather',data)"
   ]
  },
  {
   "cell_type": "code",
   "execution_count": 165,
   "metadata": {
    "collapsed": false
   },
   "outputs": [
    {
     "data": {
      "text/plain": [
       "[(3.3166247903553998, 'Josh'),\n",
       " (3.4641016151377544, 'Jeff'),\n",
       " (3.4641016151377544, 'Matt'),\n",
       " (3.6055512754639891, 'Jonathan'),\n",
       " (3.872983346207417, 'Jessica'),\n",
       " (4.0, 'greg'),\n",
       " (4.1231056256176606, 'Amy'),\n",
       " (4.1231056256176606, 'Katherine'),\n",
       " (4.1231056256176606, 'Patrick C'),\n",
       " (4.1231056256176606, 'Zak'),\n",
       " (4.2426406871192848, 'Bryan'),\n",
       " (4.2426406871192848, 'Erin'),\n",
       " (4.358898943540674, 'aaron'),\n",
       " (4.5825756949558398, 'brian'),\n",
       " (4.5825756949558398, 'vanessa'),\n",
       " (4.8989794855663558, 'Zwe'),\n",
       " (5.196152422706632, 'Patrick T'),\n",
       " (5.4772255750516612, 'Chris.1'),\n",
       " (5.5677643628300215, 'Gary'),\n",
       " (5.5677643628300215, 'ben'),\n",
       " (5.7445626465380286, 'Thomas'),\n",
       " (5.7445626465380286, 'Valerie'),\n",
       " (6.0, 'Stephen'),\n",
       " (7.4833147735478827, 'Chris')]"
      ]
     },
     "execution_count": 165,
     "metadata": {},
     "output_type": "execute_result"
    }
   ],
   "source": [
    "computeNearestNeighbor('Heather',data)"
   ]
  },
  {
   "cell_type": "code",
   "execution_count": 185,
   "metadata": {
    "collapsed": false
   },
   "outputs": [
    {
     "data": {
      "text/plain": [
       "{'Alien': 3.0,\n",
       " 'Avatar': 4.0,\n",
       " 'Forest Gump': 4.0,\n",
       " 'Gladiator': 4.0,\n",
       " 'Jaws': 5.0,\n",
       " 'Spiderman': 4.0,\n",
       " 'Star Wars': 5.0,\n",
       " 'The Dark Knight': 4.0,\n",
       " 'The Matrix': 5.0,\n",
       " 'Toy Story': 4.0,\n",
       " 'Village': 4.0}"
      ]
     },
     "execution_count": 185,
     "metadata": {},
     "output_type": "execute_result"
    }
   ],
   "source": [
    "data[\"Josh\"]"
   ]
  },
  {
   "cell_type": "code",
   "execution_count": 186,
   "metadata": {
    "collapsed": false
   },
   "outputs": [
    {
     "data": {
      "text/plain": [
       "{'Avatar': 5.0,\n",
       " 'Dodgeball': 4.0,\n",
       " 'Forest Gump': 5.0,\n",
       " 'Gladiator': 5.0,\n",
       " 'Jaws': 5.0,\n",
       " 'Lord of the Rings': 4.0,\n",
       " 'Napolean Dynamite': 4.0,\n",
       " 'Scarface': 4.0,\n",
       " 'Snakes on a Plane': 1.0,\n",
       " 'Spiderman': 3.0,\n",
       " 'Star Wars': 5.0,\n",
       " 'The Dark Knight': 5.0,\n",
       " 'The Matrix': 4.0,\n",
       " 'Toy Story': 3.0,\n",
       " 'Village': 2.0}"
      ]
     },
     "execution_count": 186,
     "metadata": {},
     "output_type": "execute_result"
    }
   ],
   "source": [
    "data[\"Heather\"]"
   ]
  },
  {
   "cell_type": "code",
   "execution_count": 188,
   "metadata": {
    "collapsed": false
   },
   "outputs": [
    {
     "data": {
      "text/plain": [
       "3.3166247903553998"
      ]
     },
     "execution_count": 188,
     "metadata": {},
     "output_type": "execute_result"
    }
   ],
   "source": [
    "minkowski(data[\"Heather\"],data[\"Josh\"],2)"
   ]
  },
  {
   "cell_type": "code",
   "execution_count": 189,
   "metadata": {
    "collapsed": false
   },
   "outputs": [
    {
     "data": {
      "text/plain": [
       "9.0"
      ]
     },
     "execution_count": 189,
     "metadata": {},
     "output_type": "execute_result"
    }
   ],
   "source": [
    "minkowski(data[\"Heather\"],data[\"Josh\"],1)"
   ]
  },
  {
   "cell_type": "code",
   "execution_count": null,
   "metadata": {
    "collapsed": true
   },
   "outputs": [],
   "source": []
  }
 ],
 "metadata": {
  "kernelspec": {
   "display_name": "Python 3",
   "language": "python",
   "name": "python3"
  },
  "language_info": {
   "codemirror_mode": {
    "name": "ipython",
    "version": 3
   },
   "file_extension": ".py",
   "mimetype": "text/x-python",
   "name": "python",
   "nbconvert_exporter": "python",
   "pygments_lexer": "ipython3",
   "version": "3.3.5"
  }
 },
 "nbformat": 4,
 "nbformat_minor": 0
}
